{
  "nbformat": 4,
  "nbformat_minor": 0,
  "metadata": {
    "colab": {
      "name": "Envenenamiento",
      "provenance": [],
      "collapsed_sections": []
    },
    "kernelspec": {
      "name": "python3",
      "display_name": "Python 3"
    }
  },
  "cells": [
    {
      "cell_type": "markdown",
      "metadata": {
        "id": "CLrkyRc6-rD5"
      },
      "source": [
        "# Envenenamiento"
      ]
    },
    {
      "cell_type": "markdown",
      "metadata": {
        "id": "NuoZ5bhE-2_0"
      },
      "source": [
        "## Instalación"
      ]
    },
    {
      "cell_type": "code",
      "metadata": {
        "id": "dW8FLnz3SOT_",
        "outputId": "5ffc0b8f-d10c-4646-85e4-0565d6582a49",
        "colab": {
          "base_uri": "https://localhost:8080/",
          "height": 34
        }
      },
      "source": [
        "%tensorflow_version 1.x"
      ],
      "execution_count": 1,
      "outputs": [
        {
          "output_type": "stream",
          "text": [
            "TensorFlow 1.x selected.\n"
          ],
          "name": "stdout"
        }
      ]
    },
    {
      "cell_type": "code",
      "metadata": {
        "id": "b-RkDbnQHN3Y",
        "outputId": "015f6744-c4a6-464c-f992-0d7f02160370",
        "colab": {
          "base_uri": "https://localhost:8080/",
          "height": 786
        }
      },
      "source": [
        "!pip uninstall tensorflow -y\n",
        "!pip install tensorflow==1.9.0"
      ],
      "execution_count": 2,
      "outputs": [
        {
          "output_type": "stream",
          "text": [
            "Uninstalling tensorflow-1.15.2:\n",
            "  Successfully uninstalled tensorflow-1.15.2\n",
            "Collecting tensorflow==1.9.0\n",
            "\u001b[?25l  Downloading https://files.pythonhosted.org/packages/86/95/274190b39950e1e9eef4b071acefea832ac3e2c19bb4b442fa54f3214d2e/tensorflow-1.9.0-cp36-cp36m-manylinux1_x86_64.whl (51.1MB)\n",
            "\u001b[K     |████████████████████████████████| 51.1MB 76kB/s \n",
            "\u001b[?25hCollecting tensorboard<1.10.0,>=1.9.0\n",
            "\u001b[?25l  Downloading https://files.pythonhosted.org/packages/9e/1f/3da43860db614e294a034e42d4be5c8f7f0d2c75dc1c428c541116d8cdab/tensorboard-1.9.0-py3-none-any.whl (3.3MB)\n",
            "\u001b[K     |████████████████████████████████| 3.3MB 46.3MB/s \n",
            "\u001b[?25hRequirement already satisfied: termcolor>=1.1.0 in /usr/local/lib/python3.6/dist-packages (from tensorflow==1.9.0) (1.1.0)\n",
            "Requirement already satisfied: grpcio>=1.8.6 in /usr/local/lib/python3.6/dist-packages (from tensorflow==1.9.0) (1.32.0)\n",
            "Collecting setuptools<=39.1.0\n",
            "\u001b[?25l  Downloading https://files.pythonhosted.org/packages/8c/10/79282747f9169f21c053c562a0baa21815a8c7879be97abd930dbcf862e8/setuptools-39.1.0-py2.py3-none-any.whl (566kB)\n",
            "\u001b[K     |████████████████████████████████| 573kB 43.2MB/s \n",
            "\u001b[?25hRequirement already satisfied: wheel>=0.26 in /usr/local/lib/python3.6/dist-packages (from tensorflow==1.9.0) (0.35.1)\n",
            "Requirement already satisfied: numpy>=1.13.3 in /usr/local/lib/python3.6/dist-packages (from tensorflow==1.9.0) (1.18.5)\n",
            "Requirement already satisfied: gast>=0.2.0 in /usr/local/lib/python3.6/dist-packages (from tensorflow==1.9.0) (0.3.3)\n",
            "Requirement already satisfied: absl-py>=0.1.6 in /usr/local/lib/python3.6/dist-packages (from tensorflow==1.9.0) (0.10.0)\n",
            "Requirement already satisfied: six>=1.10.0 in /usr/local/lib/python3.6/dist-packages (from tensorflow==1.9.0) (1.15.0)\n",
            "Requirement already satisfied: astor>=0.6.0 in /usr/local/lib/python3.6/dist-packages (from tensorflow==1.9.0) (0.8.1)\n",
            "Requirement already satisfied: protobuf>=3.4.0 in /usr/local/lib/python3.6/dist-packages (from tensorflow==1.9.0) (3.12.4)\n",
            "Requirement already satisfied: markdown>=2.6.8 in /usr/local/lib/python3.6/dist-packages (from tensorboard<1.10.0,>=1.9.0->tensorflow==1.9.0) (3.2.2)\n",
            "Requirement already satisfied: werkzeug>=0.11.10 in /usr/local/lib/python3.6/dist-packages (from tensorboard<1.10.0,>=1.9.0->tensorflow==1.9.0) (1.0.1)\n",
            "Requirement already satisfied: importlib-metadata; python_version < \"3.8\" in /usr/local/lib/python3.6/dist-packages (from markdown>=2.6.8->tensorboard<1.10.0,>=1.9.0->tensorflow==1.9.0) (2.0.0)\n",
            "Requirement already satisfied: zipp>=0.5 in /usr/local/lib/python3.6/dist-packages (from importlib-metadata; python_version < \"3.8\"->markdown>=2.6.8->tensorboard<1.10.0,>=1.9.0->tensorflow==1.9.0) (3.2.0)\n",
            "\u001b[31mERROR: magenta 0.3.19 has requirement tensorflow>=1.12.0, but you'll have tensorflow 1.9.0 which is incompatible.\u001b[0m\n",
            "\u001b[31mERROR: xarray 0.15.1 has requirement setuptools>=41.2, but you'll have setuptools 39.1.0 which is incompatible.\u001b[0m\n",
            "\u001b[31mERROR: google-auth 1.17.2 has requirement setuptools>=40.3.0, but you'll have setuptools 39.1.0 which is incompatible.\u001b[0m\n",
            "\u001b[31mERROR: datascience 0.10.6 has requirement folium==0.2.1, but you'll have folium 0.8.3 which is incompatible.\u001b[0m\n",
            "Installing collected packages: tensorboard, setuptools, tensorflow\n",
            "  Found existing installation: tensorboard 1.15.0\n",
            "    Uninstalling tensorboard-1.15.0:\n",
            "      Successfully uninstalled tensorboard-1.15.0\n",
            "  Found existing installation: setuptools 50.3.0\n",
            "    Uninstalling setuptools-50.3.0:\n",
            "      Successfully uninstalled setuptools-50.3.0\n",
            "  Found existing installation: tensorflow 2.3.0\n",
            "    Uninstalling tensorflow-2.3.0:\n",
            "      Successfully uninstalled tensorflow-2.3.0\n",
            "Successfully installed setuptools-39.1.0 tensorboard-2.3.0 tensorflow-1.9.0\n"
          ],
          "name": "stdout"
        },
        {
          "output_type": "display_data",
          "data": {
            "application/vnd.colab-display-data+json": {
              "pip_warning": {
                "packages": [
                  "pkg_resources"
                ]
              }
            }
          },
          "metadata": {
            "tags": []
          }
        }
      ]
    },
    {
      "cell_type": "code",
      "metadata": {
        "id": "Zua3aciV-O5K",
        "outputId": "4ed79047-1b2f-4140-823c-23becdbbd226",
        "colab": {
          "base_uri": "https://localhost:8080/",
          "height": 1000
        }
      },
      "source": [
        "!pip install adversarial-robustness-toolbox==1.4.1\n",
        "!pip install keras==2.2.4"
      ],
      "execution_count": 3,
      "outputs": [
        {
          "output_type": "stream",
          "text": [
            "Collecting adversarial-robustness-toolbox==1.4.1\n",
            "\u001b[?25l  Downloading https://files.pythonhosted.org/packages/fe/8d/e7b34237bb7622c465ed8a3afae301f1689f795bc49e41b8fcd3ae849511/adversarial_robustness_toolbox-1.4.1-py3-none-any.whl (761kB)\n",
            "\r\u001b[K     |▍                               | 10kB 19.4MB/s eta 0:00:01\r\u001b[K     |▉                               | 20kB 1.7MB/s eta 0:00:01\r\u001b[K     |█▎                              | 30kB 2.3MB/s eta 0:00:01\r\u001b[K     |█▊                              | 40kB 2.6MB/s eta 0:00:01\r\u001b[K     |██▏                             | 51kB 2.0MB/s eta 0:00:01\r\u001b[K     |██▋                             | 61kB 2.3MB/s eta 0:00:01\r\u001b[K     |███                             | 71kB 2.5MB/s eta 0:00:01\r\u001b[K     |███▍                            | 81kB 2.8MB/s eta 0:00:01\r\u001b[K     |███▉                            | 92kB 2.9MB/s eta 0:00:01\r\u001b[K     |████▎                           | 102kB 2.8MB/s eta 0:00:01\r\u001b[K     |████▊                           | 112kB 2.8MB/s eta 0:00:01\r\u001b[K     |█████▏                          | 122kB 2.8MB/s eta 0:00:01\r\u001b[K     |█████▋                          | 133kB 2.8MB/s eta 0:00:01\r\u001b[K     |██████                          | 143kB 2.8MB/s eta 0:00:01\r\u001b[K     |██████▌                         | 153kB 2.8MB/s eta 0:00:01\r\u001b[K     |██████▉                         | 163kB 2.8MB/s eta 0:00:01\r\u001b[K     |███████▎                        | 174kB 2.8MB/s eta 0:00:01\r\u001b[K     |███████▊                        | 184kB 2.8MB/s eta 0:00:01\r\u001b[K     |████████▏                       | 194kB 2.8MB/s eta 0:00:01\r\u001b[K     |████████▋                       | 204kB 2.8MB/s eta 0:00:01\r\u001b[K     |█████████                       | 215kB 2.8MB/s eta 0:00:01\r\u001b[K     |█████████▌                      | 225kB 2.8MB/s eta 0:00:01\r\u001b[K     |██████████                      | 235kB 2.8MB/s eta 0:00:01\r\u001b[K     |██████████▎                     | 245kB 2.8MB/s eta 0:00:01\r\u001b[K     |██████████▊                     | 256kB 2.8MB/s eta 0:00:01\r\u001b[K     |███████████▏                    | 266kB 2.8MB/s eta 0:00:01\r\u001b[K     |███████████▋                    | 276kB 2.8MB/s eta 0:00:01\r\u001b[K     |████████████                    | 286kB 2.8MB/s eta 0:00:01\r\u001b[K     |████████████▌                   | 296kB 2.8MB/s eta 0:00:01\r\u001b[K     |█████████████                   | 307kB 2.8MB/s eta 0:00:01\r\u001b[K     |█████████████▍                  | 317kB 2.8MB/s eta 0:00:01\r\u001b[K     |█████████████▊                  | 327kB 2.8MB/s eta 0:00:01\r\u001b[K     |██████████████▏                 | 337kB 2.8MB/s eta 0:00:01\r\u001b[K     |██████████████▋                 | 348kB 2.8MB/s eta 0:00:01\r\u001b[K     |███████████████                 | 358kB 2.8MB/s eta 0:00:01\r\u001b[K     |███████████████▌                | 368kB 2.8MB/s eta 0:00:01\r\u001b[K     |████████████████                | 378kB 2.8MB/s eta 0:00:01\r\u001b[K     |████████████████▍               | 389kB 2.8MB/s eta 0:00:01\r\u001b[K     |████████████████▊               | 399kB 2.8MB/s eta 0:00:01\r\u001b[K     |█████████████████▏              | 409kB 2.8MB/s eta 0:00:01\r\u001b[K     |█████████████████▋              | 419kB 2.8MB/s eta 0:00:01\r\u001b[K     |██████████████████              | 430kB 2.8MB/s eta 0:00:01\r\u001b[K     |██████████████████▌             | 440kB 2.8MB/s eta 0:00:01\r\u001b[K     |███████████████████             | 450kB 2.8MB/s eta 0:00:01\r\u001b[K     |███████████████████▍            | 460kB 2.8MB/s eta 0:00:01\r\u001b[K     |███████████████████▉            | 471kB 2.8MB/s eta 0:00:01\r\u001b[K     |████████████████████▏           | 481kB 2.8MB/s eta 0:00:01\r\u001b[K     |████████████████████▋           | 491kB 2.8MB/s eta 0:00:01\r\u001b[K     |█████████████████████           | 501kB 2.8MB/s eta 0:00:01\r\u001b[K     |█████████████████████▌          | 512kB 2.8MB/s eta 0:00:01\r\u001b[K     |██████████████████████          | 522kB 2.8MB/s eta 0:00:01\r\u001b[K     |██████████████████████▍         | 532kB 2.8MB/s eta 0:00:01\r\u001b[K     |██████████████████████▉         | 542kB 2.8MB/s eta 0:00:01\r\u001b[K     |███████████████████████▎        | 552kB 2.8MB/s eta 0:00:01\r\u001b[K     |███████████████████████▋        | 563kB 2.8MB/s eta 0:00:01\r\u001b[K     |████████████████████████        | 573kB 2.8MB/s eta 0:00:01\r\u001b[K     |████████████████████████▌       | 583kB 2.8MB/s eta 0:00:01\r\u001b[K     |█████████████████████████       | 593kB 2.8MB/s eta 0:00:01\r\u001b[K     |█████████████████████████▍      | 604kB 2.8MB/s eta 0:00:01\r\u001b[K     |█████████████████████████▉      | 614kB 2.8MB/s eta 0:00:01\r\u001b[K     |██████████████████████████▎     | 624kB 2.8MB/s eta 0:00:01\r\u001b[K     |██████████████████████████▊     | 634kB 2.8MB/s eta 0:00:01\r\u001b[K     |███████████████████████████     | 645kB 2.8MB/s eta 0:00:01\r\u001b[K     |███████████████████████████▌    | 655kB 2.8MB/s eta 0:00:01\r\u001b[K     |████████████████████████████    | 665kB 2.8MB/s eta 0:00:01\r\u001b[K     |████████████████████████████▍   | 675kB 2.8MB/s eta 0:00:01\r\u001b[K     |████████████████████████████▉   | 686kB 2.8MB/s eta 0:00:01\r\u001b[K     |█████████████████████████████▎  | 696kB 2.8MB/s eta 0:00:01\r\u001b[K     |█████████████████████████████▊  | 706kB 2.8MB/s eta 0:00:01\r\u001b[K     |██████████████████████████████  | 716kB 2.8MB/s eta 0:00:01\r\u001b[K     |██████████████████████████████▌ | 727kB 2.8MB/s eta 0:00:01\r\u001b[K     |███████████████████████████████ | 737kB 2.8MB/s eta 0:00:01\r\u001b[K     |███████████████████████████████▍| 747kB 2.8MB/s eta 0:00:01\r\u001b[K     |███████████████████████████████▉| 757kB 2.8MB/s eta 0:00:01\r\u001b[K     |████████████████████████████████| 768kB 2.8MB/s \n",
            "\u001b[?25hRequirement already satisfied: resampy in /usr/local/lib/python3.6/dist-packages (from adversarial-robustness-toolbox==1.4.1) (0.2.2)\n",
            "Collecting scikit-learn==0.22.2\n",
            "\u001b[?25l  Downloading https://files.pythonhosted.org/packages/e1/7f/366dcba1ba076a88a50bea732dbc033c0c5bbf7876010e6edc67948579d5/scikit_learn-0.22.2-cp36-cp36m-manylinux1_x86_64.whl (7.1MB)\n",
            "\u001b[K     |████████████████████████████████| 7.1MB 15.4MB/s \n",
            "\u001b[?25hRequirement already satisfied: tqdm in /usr/local/lib/python3.6/dist-packages (from adversarial-robustness-toolbox==1.4.1) (4.41.1)\n",
            "Requirement already satisfied: six in /usr/local/lib/python3.6/dist-packages (from adversarial-robustness-toolbox==1.4.1) (1.15.0)\n",
            "Requirement already satisfied: statsmodels in /usr/local/lib/python3.6/dist-packages (from adversarial-robustness-toolbox==1.4.1) (0.10.2)\n",
            "Collecting ffmpeg-python\n",
            "  Downloading https://files.pythonhosted.org/packages/d7/0c/56be52741f75bad4dc6555991fabd2e07b432d333da82c11ad701123888a/ffmpeg_python-0.2.0-py3-none-any.whl\n",
            "Requirement already satisfied: setuptools in /usr/local/lib/python3.6/dist-packages (from adversarial-robustness-toolbox==1.4.1) (39.1.0)\n",
            "Collecting pydub\n",
            "  Downloading https://files.pythonhosted.org/packages/7b/d1/fbfa79371a8cd9bb15c2e3c480d7e6e340ed5cc55005174e16f48418333a/pydub-0.24.1-py2.py3-none-any.whl\n",
            "Requirement already satisfied: numpy in /usr/local/lib/python3.6/dist-packages (from adversarial-robustness-toolbox==1.4.1) (1.18.5)\n",
            "Requirement already satisfied: Pillow in /usr/local/lib/python3.6/dist-packages (from adversarial-robustness-toolbox==1.4.1) (7.0.0)\n",
            "Requirement already satisfied: scipy==1.4.1 in /usr/local/lib/python3.6/dist-packages (from adversarial-robustness-toolbox==1.4.1) (1.4.1)\n",
            "Requirement already satisfied: matplotlib in /usr/local/lib/python3.6/dist-packages (from adversarial-robustness-toolbox==1.4.1) (3.2.2)\n",
            "Collecting mypy\n",
            "\u001b[?25l  Downloading https://files.pythonhosted.org/packages/e2/cb/cf5530d063e7e703e2fbec677bfba633de6e70fe44bc323deeaa27f273b8/mypy-0.790-cp36-cp36m-manylinux1_x86_64.whl (21.0MB)\n",
            "\u001b[K     |████████████████████████████████| 21.0MB 1.6MB/s \n",
            "\u001b[?25hCollecting cma\n",
            "\u001b[?25l  Downloading https://files.pythonhosted.org/packages/36/c0/0a1c41f7cad0a51e07991cf86423d0e6651d035f1fe7dcff48e8858848f2/cma-3.0.3-py2.py3-none-any.whl (230kB)\n",
            "\u001b[K     |████████████████████████████████| 235kB 42.5MB/s \n",
            "\u001b[?25hRequirement already satisfied: numba>=0.32 in /usr/local/lib/python3.6/dist-packages (from resampy->adversarial-robustness-toolbox==1.4.1) (0.48.0)\n",
            "Requirement already satisfied: joblib>=0.11 in /usr/local/lib/python3.6/dist-packages (from scikit-learn==0.22.2->adversarial-robustness-toolbox==1.4.1) (0.16.0)\n",
            "Requirement already satisfied: pandas>=0.19 in /usr/local/lib/python3.6/dist-packages (from statsmodels->adversarial-robustness-toolbox==1.4.1) (1.1.2)\n",
            "Requirement already satisfied: patsy>=0.4.0 in /usr/local/lib/python3.6/dist-packages (from statsmodels->adversarial-robustness-toolbox==1.4.1) (0.5.1)\n",
            "Requirement already satisfied: future in /usr/local/lib/python3.6/dist-packages (from ffmpeg-python->adversarial-robustness-toolbox==1.4.1) (0.16.0)\n",
            "Requirement already satisfied: python-dateutil>=2.1 in /usr/local/lib/python3.6/dist-packages (from matplotlib->adversarial-robustness-toolbox==1.4.1) (2.8.1)\n",
            "Requirement already satisfied: kiwisolver>=1.0.1 in /usr/local/lib/python3.6/dist-packages (from matplotlib->adversarial-robustness-toolbox==1.4.1) (1.2.0)\n",
            "Requirement already satisfied: cycler>=0.10 in /usr/local/lib/python3.6/dist-packages (from matplotlib->adversarial-robustness-toolbox==1.4.1) (0.10.0)\n",
            "Requirement already satisfied: pyparsing!=2.0.4,!=2.1.2,!=2.1.6,>=2.0.1 in /usr/local/lib/python3.6/dist-packages (from matplotlib->adversarial-robustness-toolbox==1.4.1) (2.4.7)\n",
            "Collecting typed-ast<1.5.0,>=1.4.0\n",
            "\u001b[?25l  Downloading https://files.pythonhosted.org/packages/90/ed/5459080d95eb87a02fe860d447197be63b6e2b5e9ff73c2b0a85622994f4/typed_ast-1.4.1-cp36-cp36m-manylinux1_x86_64.whl (737kB)\n",
            "\u001b[K     |████████████████████████████████| 747kB 42.9MB/s \n",
            "\u001b[?25hCollecting mypy-extensions<0.5.0,>=0.4.3\n",
            "  Downloading https://files.pythonhosted.org/packages/5c/eb/975c7c080f3223a5cdaff09612f3a5221e4ba534f7039db34c35d95fa6a5/mypy_extensions-0.4.3-py2.py3-none-any.whl\n",
            "Requirement already satisfied: typing-extensions>=3.7.4 in /usr/local/lib/python3.6/dist-packages (from mypy->adversarial-robustness-toolbox==1.4.1) (3.7.4.3)\n",
            "Requirement already satisfied: llvmlite<0.32.0,>=0.31.0dev0 in /usr/local/lib/python3.6/dist-packages (from numba>=0.32->resampy->adversarial-robustness-toolbox==1.4.1) (0.31.0)\n",
            "Requirement already satisfied: pytz>=2017.2 in /usr/local/lib/python3.6/dist-packages (from pandas>=0.19->statsmodels->adversarial-robustness-toolbox==1.4.1) (2018.9)\n",
            "Installing collected packages: scikit-learn, ffmpeg-python, pydub, typed-ast, mypy-extensions, mypy, cma, adversarial-robustness-toolbox\n",
            "  Found existing installation: scikit-learn 0.22.2.post1\n",
            "    Uninstalling scikit-learn-0.22.2.post1:\n",
            "      Successfully uninstalled scikit-learn-0.22.2.post1\n",
            "Successfully installed adversarial-robustness-toolbox-1.4.1 cma-3.0.3 ffmpeg-python-0.2.0 mypy-0.790 mypy-extensions-0.4.3 pydub-0.24.1 scikit-learn-0.22.2 typed-ast-1.4.1\n",
            "Collecting keras==2.2.4\n",
            "\u001b[?25l  Downloading https://files.pythonhosted.org/packages/5e/10/aa32dad071ce52b5502266b5c659451cfd6ffcbf14e6c8c4f16c0ff5aaab/Keras-2.2.4-py2.py3-none-any.whl (312kB)\n",
            "\u001b[K     |████████████████████████████████| 317kB 2.8MB/s \n",
            "\u001b[?25hRequirement already satisfied: pyyaml in /usr/local/lib/python3.6/dist-packages (from keras==2.2.4) (3.13)\n",
            "Requirement already satisfied: keras-applications>=1.0.6 in /tensorflow-1.15.2/python3.6 (from keras==2.2.4) (1.0.8)\n",
            "Requirement already satisfied: h5py in /usr/local/lib/python3.6/dist-packages (from keras==2.2.4) (2.10.0)\n",
            "Requirement already satisfied: scipy>=0.14 in /usr/local/lib/python3.6/dist-packages (from keras==2.2.4) (1.4.1)\n",
            "Requirement already satisfied: keras-preprocessing>=1.0.5 in /usr/local/lib/python3.6/dist-packages (from keras==2.2.4) (1.1.2)\n",
            "Requirement already satisfied: numpy>=1.9.1 in /usr/local/lib/python3.6/dist-packages (from keras==2.2.4) (1.18.5)\n",
            "Requirement already satisfied: six>=1.9.0 in /usr/local/lib/python3.6/dist-packages (from keras==2.2.4) (1.15.0)\n",
            "Installing collected packages: keras\n",
            "  Found existing installation: Keras 2.3.1\n",
            "    Uninstalling Keras-2.3.1:\n",
            "      Successfully uninstalled Keras-2.3.1\n",
            "Successfully installed keras-2.4.3\n"
          ],
          "name": "stdout"
        }
      ]
    },
    {
      "cell_type": "code",
      "metadata": {
        "id": "1M8cmX6Y_MaU",
        "outputId": "0c29e3dc-1c08-4679-9a3b-b337ccb8f18a",
        "colab": {
          "base_uri": "https://localhost:8080/",
          "height": 34
        }
      },
      "source": [
        "import warnings\n",
        "warnings.filterwarnings('ignore')\n",
        "import keras.backend as k\n",
        "from keras.models import Sequential\n",
        "from keras.layers import Dense, Flatten, Conv2D, MaxPooling2D, Dropout\n",
        "import numpy as np\n",
        "import matplotlib.pyplot as plt\n",
        "\n",
        "\n",
        "from art.utils import load_mnist, preprocess"
      ],
      "execution_count": 4,
      "outputs": [
        {
          "output_type": "stream",
          "text": [
            "Using TensorFlow backend.\n"
          ],
          "name": "stderr"
        }
      ]
    },
    {
      "cell_type": "code",
      "metadata": {
        "id": "6k-Q4bnG_SWG"
      },
      "source": [
        "%matplotlib inline"
      ],
      "execution_count": 5,
      "outputs": []
    },
    {
      "cell_type": "markdown",
      "metadata": {
        "id": "rYWQUSRC_WLT"
      },
      "source": [
        "## Envenenar datos"
      ]
    },
    {
      "cell_type": "code",
      "metadata": {
        "id": "cHF76IhPRuCs"
      },
      "source": [
        "from art.attacks.poisoning import PoisoningAttackBackdoor\n",
        "from art.attacks.poisoning.perturbations import add_pattern_bd\n",
        "from art.utils import preprocess\n",
        "from art.defences.transformer.poisoning import NeuralCleanse"
      ],
      "execution_count": 6,
      "outputs": []
    },
    {
      "cell_type": "code",
      "metadata": {
        "id": "hq1wjOgu_a1U"
      },
      "source": [
        "(x_raw, y_raw), (x_raw_test, y_raw_test), min_, max_ = load_mnist(raw=True)\n",
        "\n",
        "n_train = np.shape(x_raw)[0]\n",
        "num_selection = 7500\n",
        "random_selection_indices = np.random.choice(n_train, num_selection)\n",
        "x_raw = x_raw[random_selection_indices]\n",
        "y_raw = y_raw[random_selection_indices]"
      ],
      "execution_count": 7,
      "outputs": []
    },
    {
      "cell_type": "code",
      "metadata": {
        "id": "JBhvuz68QRDm"
      },
      "source": [
        "max_val = np.max(x_raw)\n",
        "def poison_func(x):\n",
        "        return add_pattern_bd(x, pixel_value=max_val)"
      ],
      "execution_count": 8,
      "outputs": []
    },
    {
      "cell_type": "code",
      "metadata": {
        "id": "vV_pIEkOQVJG"
      },
      "source": [
        "def poison_dataset(x_clean, y_clean, percent_poison, poison_func):\n",
        "    x_poison = np.copy(x_clean)\n",
        "    y_poison = np.copy(y_clean)\n",
        "    is_poison = np.zeros(np.shape(y_poison))\n",
        "    \n",
        "    sources = np.arange(10) # 0, 1, 2, 3, ...\n",
        "    targets = (np.arange(10) + 1) % 10 # 1, 2, 3, 4, ...\n",
        "    for i, (src, tgt) in enumerate(zip(sources, targets)):\n",
        "        n_points_in_tgt = np.size(np.where(y_clean == tgt))\n",
        "        num_poison = round((percent_poison * n_points_in_tgt) / (1 - percent_poison))\n",
        "        src_imgs = x_clean[y_clean == src]\n",
        "\n",
        "        n_points_in_src = np.shape(src_imgs)[0]\n",
        "        indices_to_be_poisoned = np.random.choice(n_points_in_src, num_poison)\n",
        "\n",
        "        imgs_to_be_poisoned = np.copy(src_imgs[indices_to_be_poisoned])\n",
        "        backdoor_attack = PoisoningAttackBackdoor(poison_func)\n",
        "        imgs_to_be_poisoned, poison_labels = backdoor_attack.poison(imgs_to_be_poisoned, y=np.ones(num_poison) * tgt)\n",
        "        x_poison = np.append(x_poison, imgs_to_be_poisoned, axis=0)\n",
        "        y_poison = np.append(y_poison, poison_labels, axis=0)\n",
        "        is_poison = np.append(is_poison, np.ones(num_poison))\n",
        "\n",
        "    is_poison = is_poison != 0\n",
        "    return is_poison, x_poison, y_poison"
      ],
      "execution_count": 9,
      "outputs": []
    },
    {
      "cell_type": "code",
      "metadata": {
        "id": "io8YPoQuQW-7"
      },
      "source": [
        "# Poison training data\n",
        "percent_poison = .33\n",
        "(is_poison_train, x_poisoned_raw, y_poisoned_raw) = poison_dataset(x_raw, y_raw, percent_poison, poison_func)\n",
        "x_train, y_train = preprocess(x_poisoned_raw, y_poisoned_raw)\n",
        "# Add channel axis:\n",
        "x_train = np.expand_dims(x_train, axis=3)\n",
        "\n",
        "# Poison test data\n",
        "(is_poison_test, x_poisoned_raw_test, y_poisoned_raw_test) = poison_dataset(x_raw_test, y_raw_test, percent_poison, poison_func)\n",
        "x_test, y_test = preprocess(x_poisoned_raw_test, y_poisoned_raw_test)\n",
        "# Add channel axis:\n",
        "x_test = np.expand_dims(x_test, axis=3)\n",
        "\n",
        "# Shuffle training data\n",
        "n_train = np.shape(y_train)[0]\n",
        "shuffled_indices = np.arange(n_train)\n",
        "np.random.shuffle(shuffled_indices)\n",
        "x_train = x_train[shuffled_indices]\n",
        "y_train = y_train[shuffled_indices]"
      ],
      "execution_count": 10,
      "outputs": []
    },
    {
      "cell_type": "markdown",
      "metadata": {
        "id": "gGp89T6o_s3M"
      },
      "source": [
        "## Entrenar modelo"
      ]
    },
    {
      "cell_type": "code",
      "metadata": {
        "id": "gTOks8pDAObr"
      },
      "source": [
        "from art.estimators.classification import KerasClassifier"
      ],
      "execution_count": 11,
      "outputs": []
    },
    {
      "cell_type": "code",
      "metadata": {
        "id": "IwvRBqtoARMM",
        "outputId": "bbf40c5b-1392-470d-8ef8-1ee75a8bfc02",
        "colab": {
          "base_uri": "https://localhost:8080/",
          "height": 119
        }
      },
      "source": [
        "model = Sequential()\n",
        "model.add(Conv2D(32, kernel_size=(3, 3), activation='relu', input_shape=x_train.shape[1:]))\n",
        "model.add(Conv2D(64, (3, 3), activation='relu'))\n",
        "model.add(MaxPooling2D(pool_size=(2, 2)))\n",
        "model.add(Dropout(0.25))\n",
        "model.add(Flatten())\n",
        "model.add(Dense(128, activation='relu'))\n",
        "model.add(Dropout(0.5))\n",
        "model.add(Dense(10, activation='softmax'))\n",
        "\n",
        "model.compile(loss='categorical_crossentropy', optimizer='adam', metrics=['accuracy'])\n",
        "\n",
        "classifier = KerasClassifier(model=model, clip_values=(min_, max_))\n",
        "classifier.fit(x_train, y_train, nb_epochs=3, batch_size=128)"
      ],
      "execution_count": 12,
      "outputs": [
        {
          "output_type": "stream",
          "text": [
            "Epoch 1/3\n",
            "87/87 [==============================] - 41s 476ms/step - loss: 1.2479 - acc: 0.5519\n",
            "Epoch 2/3\n",
            "87/87 [==============================] - 41s 471ms/step - loss: 0.4129 - acc: 0.8685\n",
            "Epoch 3/3\n",
            "87/87 [==============================] - 41s 471ms/step - loss: 0.2527 - acc: 0.9250\n"
          ],
          "name": "stdout"
        }
      ]
    },
    {
      "cell_type": "code",
      "metadata": {
        "id": "HoS7HK-8ATSa",
        "outputId": "72e3faf0-421e-4bdf-fd0a-816e8df08e13",
        "colab": {
          "base_uri": "https://localhost:8080/",
          "height": 51
        }
      },
      "source": [
        "clean_x_test = x_test[is_poison_test == 0]\n",
        "clean_y_test = y_test[is_poison_test == 0]\n",
        "\n",
        "clean_preds = np.argmax(classifier.predict(clean_x_test), axis=1)\n",
        "clean_correct = np.sum(clean_preds == np.argmax(clean_y_test, axis=1))\n",
        "clean_total = clean_y_test.shape[0]\n",
        "\n",
        "clean_acc = clean_correct / clean_total\n",
        "print(\"Clean test set accuracy: {:.2f}%\".format(clean_acc * 100))\n",
        "\n",
        "poison_x_test = x_test[is_poison_test]\n",
        "poison_y_test = y_test[is_poison_test]\n",
        "\n",
        "poison_preds = np.argmax(classifier.predict(poison_x_test), axis=1)\n",
        "poison_correct = np.sum(poison_preds == np.argmax(poison_y_test, axis=1))\n",
        "poison_total = poison_y_test.shape[0]\n",
        "\n",
        "poison_acc = poison_correct / poison_total\n",
        "print(\"Effectiveness of poison: {:.2f}%\".format(poison_acc * 100))"
      ],
      "execution_count": 13,
      "outputs": [
        {
          "output_type": "stream",
          "text": [
            "Clean test set accuracy: 96.58%\n",
            "Effectiveness of poison: 95.05%\n"
          ],
          "name": "stdout"
        }
      ]
    },
    {
      "cell_type": "code",
      "metadata": {
        "id": "k-70ggKKbr-d",
        "outputId": "b5af4adf-6b9d-468b-e98f-92775f29eed0",
        "colab": {
          "base_uri": "https://localhost:8080/",
          "height": 554
        }
      },
      "source": [
        "# Display image, label, and prediction for a clean sample to show how the poisoned model classifies a clean sample\n",
        "\n",
        "c = 2 # class to display\n",
        "i = 0 # image of the class to display\n",
        "\n",
        "c_idx = np.where(np.argmax(clean_y_test,1) == c)[0][i] # index of the image in clean arrays\n",
        "c_idx_p = np.where(np.argmax(poison_y_test,1) == c)[0][i] # index of the image in poison arrays\n",
        "\n",
        "fig = plt.figure(figsize=(20,10))\n",
        "ax = fig.add_subplot(1, 2, 1)\n",
        "ax.imshow(clean_x_test[c_idx].reshape((28, 28)), cmap=\"gray\")\n",
        "ax.axis('off')\n",
        "ax.set_title(\"Prediction: {}\".format(clean_preds[c_idx]))\n",
        "ax = fig.add_subplot(1, 2, 2)\n",
        "ax.imshow(poison_x_test[c_idx_p].reshape((28, 28)), cmap=\"gray\")\n",
        "ax.axis('off')\n",
        "ax.set_title(\"Prediction: {}\".format(poison_preds[c_idx_p]))\n",
        "plt.show()"
      ],
      "execution_count": 14,
      "outputs": [
        {
          "output_type": "display_data",
          "data": {
            "image/png": "[encoded data removed]",
            "text/plain": [
              "<Figure size 1440x720 with 2 Axes>"
            ]
          },
          "metadata": {
            "tags": [],
            "needs_background": "light"
          }
        }
      ]
    },
    {
      "cell_type": "markdown",
      "metadata": {
        "id": "BAVEnwbcOy11"
      },
      "source": [
        "## Detectar puerta trasera"
      ]
    },
    {
      "cell_type": "code",
      "metadata": {
        "id": "m0kI4hgdOyJZ"
      },
      "source": [
        "cleanse = NeuralCleanse(classifier)\n",
        "defence_cleanse = cleanse(classifier, steps=10, learning_rate=0.1)"
      ],
      "execution_count": 15,
      "outputs": []
    },
    {
      "cell_type": "code",
      "metadata": {
        "id": "tKWWA1fEQ7aU",
        "outputId": "09008036-f580-4fbc-8f2f-3dba791adb50",
        "colab": {
          "base_uri": "https://localhost:8080/",
          "height": 299
        }
      },
      "source": [
        "pattern, mask = defence_cleanse.generate_backdoor(x_test, y_test, np.array([0, 1, 0, 0, 0, 0, 0, 0, 0, 0]))\n",
        "plt.imshow(np.squeeze(mask * pattern))"
      ],
      "execution_count": 16,
      "outputs": [
        {
          "output_type": "stream",
          "text": [
            "Generating backdoor for class 1: 100%|██████████| 10/10 [06:25<00:00, 38.59s/it]\n"
          ],
          "name": "stderr"
        },
        {
          "output_type": "execute_result",
          "data": {
            "text/plain": [
              "<matplotlib.image.AxesImage at 0x7f372b525d30>"
            ]
          },
          "metadata": {
            "tags": []
          },
          "execution_count": 16
        },
        {
          "output_type": "display_data",
          "data": {
            "image/png": "[encoded data removed]",
            "text/plain": [
              "<Figure size 432x288 with 1 Axes>"
            ]
          },
          "metadata": {
            "tags": [],
            "needs_background": "light"
          }
        }
      ]
    },
    {
      "cell_type": "markdown",
      "metadata": {
        "id": "Lk9OdY2HLFPQ"
      },
      "source": [
        "## Mitigación"
      ]
    },
    {
      "cell_type": "code",
      "metadata": {
        "id": "XJcTRo6KKzQD",
        "outputId": "6de66a4b-a2b3-4cfc-c32d-c4fa415e5c8a",
        "colab": {
          "base_uri": "https://localhost:8080/",
          "height": 187
        }
      },
      "source": [
        "defence_cleanse = cleanse(classifier, steps=10, learning_rate=0.1)\n",
        "defence_cleanse.mitigate(clean_x_test, clean_y_test, mitigation_types=[\"filtering\"])"
      ],
      "execution_count": 17,
      "outputs": [
        {
          "output_type": "stream",
          "text": [
            "Generating backdoor for class 0: 100%|██████████| 10/10 [04:18<00:00, 25.84s/it]\n",
            "Generating backdoor for class 1: 100%|██████████| 10/10 [04:22<00:00, 26.22s/it]\n",
            "Generating backdoor for class 2: 100%|██████████| 10/10 [04:22<00:00, 26.28s/it]\n",
            "Generating backdoor for class 3: 100%|██████████| 10/10 [04:21<00:00, 26.17s/it]\n",
            "Generating backdoor for class 4: 100%|██████████| 10/10 [04:22<00:00, 26.20s/it]\n",
            "Generating backdoor for class 5: 100%|██████████| 10/10 [04:19<00:00, 25.96s/it]\n",
            "Generating backdoor for class 6: 100%|██████████| 10/10 [04:21<00:00, 26.15s/it]\n",
            "Generating backdoor for class 7: 100%|██████████| 10/10 [04:19<00:00, 25.94s/it]\n",
            "Generating backdoor for class 8: 100%|██████████| 10/10 [04:19<00:00, 25.96s/it]\n",
            "Generating backdoor for class 9: 100%|██████████| 10/10 [04:21<00:00, 26.11s/it]\n"
          ],
          "name": "stderr"
        }
      ]
    },
    {
      "cell_type": "code",
      "metadata": {
        "id": "if27XS6QLK8t",
        "outputId": "2201d4f6-70a9-45e5-a901-2dcd4d24a2d7",
        "colab": {
          "base_uri": "https://localhost:8080/",
          "height": 34
        }
      },
      "source": [
        "poison_pred = defence_cleanse.predict(poison_x_test)\n",
        "num_filtered = np.sum(np.all(poison_pred == np.zeros(10), axis=1))\n",
        "num_poison = len(poison_pred)\n",
        "effectiveness = float(num_filtered) / num_poison * 100\n",
        "print(\"Filtered {}/{} poison samples ({:.2f}% effective)\".format(num_filtered, num_poison, effectiveness))"
      ],
      "execution_count": 18,
      "outputs": [
        {
          "output_type": "stream",
          "text": [
            "Filtered 1041/4925 poison samples (21.14% effective)\n"
          ],
          "name": "stdout"
        }
      ]
    },
    {
      "cell_type": "code",
      "metadata": {
        "id": "xlj-9kUpLhuq",
        "outputId": "e55fa306-d5ca-47c7-f8d2-347f0f764180",
        "colab": {
          "base_uri": "https://localhost:8080/",
          "height": 221
        }
      },
      "source": [
        "defence_cleanse = cleanse(classifier, steps=10, learning_rate=0.1)\n",
        "defence_cleanse.mitigate(clean_x_test, clean_y_test, mitigation_types=[\"unlearning\"])"
      ],
      "execution_count": 19,
      "outputs": [
        {
          "output_type": "stream",
          "text": [
            "Generating backdoor for class 0: 100%|██████████| 10/10 [04:15<00:00, 25.54s/it]\n",
            "Generating backdoor for class 1: 100%|██████████| 10/10 [04:16<00:00, 25.69s/it]\n",
            "Generating backdoor for class 2: 100%|██████████| 10/10 [04:15<00:00, 25.57s/it]\n",
            "Generating backdoor for class 3: 100%|██████████| 10/10 [04:16<00:00, 25.64s/it]\n",
            "Generating backdoor for class 4: 100%|██████████| 10/10 [04:14<00:00, 25.48s/it]\n",
            "Generating backdoor for class 5: 100%|██████████| 10/10 [04:14<00:00, 25.46s/it]\n",
            "Generating backdoor for class 6: 100%|██████████| 10/10 [04:16<00:00, 25.63s/it]\n",
            "Generating backdoor for class 7: 100%|██████████| 10/10 [04:17<00:00, 25.74s/it]\n",
            "Generating backdoor for class 8: 100%|██████████| 10/10 [04:17<00:00, 25.78s/it]\n",
            "Generating backdoor for class 9: 100%|██████████| 10/10 [04:16<00:00, 25.66s/it]"
          ],
          "name": "stderr"
        },
        {
          "output_type": "stream",
          "text": [
            "Epoch 1/1\n",
            "   3/3147 [..............................] - ETA: 1:44 - loss: 0.0017 - acc: 1.0000"
          ],
          "name": "stdout"
        },
        {
          "output_type": "stream",
          "text": [
            "\n"
          ],
          "name": "stderr"
        },
        {
          "output_type": "stream",
          "text": [
            "3147/3147 [==============================] - 87s 28ms/step - loss: 0.0095 - acc: 0.9971\n"
          ],
          "name": "stdout"
        }
      ]
    },
    {
      "cell_type": "code",
      "metadata": {
        "id": "4ei2rgxILiwl",
        "outputId": "08744eef-27f4-4c45-9361-207e2607b083",
        "colab": {
          "base_uri": "https://localhost:8080/",
          "height": 85
        }
      },
      "source": [
        "poison_preds = np.argmax(classifier.predict(poison_x_test), axis=1)\n",
        "poison_correct = np.sum(poison_preds == np.argmax(poison_y_test, axis=1))\n",
        "poison_total = poison_y_test.shape[0]\n",
        "new_poison_acc = poison_correct / poison_total\n",
        "print(\"\\n Effectiveness of poison after unlearning: %.2f%% (previously %.2f%%)\" % (new_poison_acc * 100, poison_acc * 100))\n",
        "clean_preds = np.argmax(classifier.predict(clean_x_test), axis=1)\n",
        "clean_correct = np.sum(clean_preds == np.argmax(clean_y_test, axis=1))\n",
        "clean_total = clean_y_test.shape[0]\n",
        "\n",
        "new_clean_acc = clean_correct / clean_total\n",
        "print(\"\\n Clean test set accuracy: %.2f%% (previously %.2f%%)\" % (new_clean_acc * 100, clean_acc * 100))"
      ],
      "execution_count": 20,
      "outputs": [
        {
          "output_type": "stream",
          "text": [
            "\n",
            " Effectiveness of poison after unlearning: 31.47% (previously 95.05%)\n",
            "\n",
            " Clean test set accuracy: 37.60% (previously 96.58%)\n"
          ],
          "name": "stdout"
        }
      ]
    },
    {
      "cell_type": "code",
      "metadata": {
        "id": "P7VCagjSLm_Z",
        "outputId": "0d8799be-5719-487c-884e-3875d98461b4",
        "colab": {
          "base_uri": "https://localhost:8080/",
          "height": 187
        }
      },
      "source": [
        "defence_cleanse = cleanse(classifier, steps=10, learning_rate=0.1)\n",
        "defence_cleanse.mitigate(clean_x_test, clean_y_test, mitigation_types=[\"pruning\"])"
      ],
      "execution_count": 21,
      "outputs": [
        {
          "output_type": "stream",
          "text": [
            "Generating backdoor for class 0: 100%|██████████| 10/10 [04:13<00:00, 25.39s/it]\n",
            "Generating backdoor for class 1: 100%|██████████| 10/10 [04:10<00:00, 25.08s/it]\n",
            "Generating backdoor for class 2: 100%|██████████| 10/10 [04:12<00:00, 25.30s/it]\n",
            "Generating backdoor for class 3: 100%|██████████| 10/10 [04:10<00:00, 25.07s/it]\n",
            "Generating backdoor for class 4: 100%|██████████| 10/10 [04:11<00:00, 25.13s/it]\n",
            "Generating backdoor for class 5: 100%|██████████| 10/10 [04:12<00:00, 25.28s/it]\n",
            "Generating backdoor for class 6: 100%|██████████| 10/10 [04:11<00:00, 25.19s/it]\n",
            "Generating backdoor for class 7: 100%|██████████| 10/10 [04:13<00:00, 25.38s/it]\n",
            "Generating backdoor for class 8: 100%|██████████| 10/10 [04:11<00:00, 25.18s/it]\n",
            "Generating backdoor for class 9: 100%|██████████| 10/10 [04:11<00:00, 25.16s/it]\n"
          ],
          "name": "stderr"
        }
      ]
    },
    {
      "cell_type": "code",
      "metadata": {
        "id": "mWCJ_VxpLpz8",
        "outputId": "69a2a6f8-16d0-425e-baaf-1caa201e4a15",
        "colab": {
          "base_uri": "https://localhost:8080/",
          "height": 85
        }
      },
      "source": [
        "poison_preds = np.argmax(classifier.predict(poison_x_test), axis=1)\n",
        "poison_correct = np.sum(poison_preds == np.argmax(poison_y_test, axis=1))\n",
        "poison_total = poison_y_test.shape[0]\n",
        "new_poison_acc = poison_correct / poison_total\n",
        "print(\"\\n Effectiveness of poison after pruning: %.2f%% (previously %.2f%%)\" % (new_poison_acc * 100, poison_acc * 100))\n",
        "clean_preds = np.argmax(classifier.predict(clean_x_test), axis=1)\n",
        "clean_correct = np.sum(clean_preds == np.argmax(clean_y_test, axis=1))\n",
        "clean_total = clean_y_test.shape[0]\n",
        "\n",
        "new_clean_acc = clean_correct / clean_total\n",
        "print(\"\\n Clean test set accuracy: %.2f%% (previously %.2f%%)\" % (new_clean_acc * 100, clean_acc * 100))"
      ],
      "execution_count": 22,
      "outputs": [
        {
          "output_type": "stream",
          "text": [
            "\n",
            " Effectiveness of poison after pruning: 28.45% (previously 95.05%)\n",
            "\n",
            " Clean test set accuracy: 18.90% (previously 96.58%)\n"
          ],
          "name": "stdout"
        }
      ]
    },
    {
      "cell_type": "code",
      "metadata": {
        "id": "bAdVu40jLsGA",
        "outputId": "86b36039-6812-4036-af62-019b502f3704",
        "colab": {
          "base_uri": "https://localhost:8080/",
          "height": 187
        }
      },
      "source": [
        "defence_cleanse.mitigate(clean_x_test, clean_y_test, mitigation_types=[\"pruning\", \"filtering\"])"
      ],
      "execution_count": 23,
      "outputs": [
        {
          "output_type": "stream",
          "text": [
            "Generating backdoor for class 0: 100%|██████████| 10/10 [04:11<00:00, 25.17s/it]\n",
            "Generating backdoor for class 1: 100%|██████████| 10/10 [04:13<00:00, 25.37s/it]\n",
            "Generating backdoor for class 2: 100%|██████████| 10/10 [04:12<00:00, 25.23s/it]\n",
            "Generating backdoor for class 3: 100%|██████████| 10/10 [04:12<00:00, 25.30s/it]\n",
            "Generating backdoor for class 4: 100%|██████████| 10/10 [04:14<00:00, 25.40s/it]\n",
            "Generating backdoor for class 5: 100%|██████████| 10/10 [04:12<00:00, 25.21s/it]\n",
            "Generating backdoor for class 6: 100%|██████████| 10/10 [04:13<00:00, 25.36s/it]\n",
            "Generating backdoor for class 7: 100%|██████████| 10/10 [04:12<00:00, 25.23s/it]\n",
            "Generating backdoor for class 8: 100%|██████████| 10/10 [04:13<00:00, 25.34s/it]\n",
            "Generating backdoor for class 9: 100%|██████████| 10/10 [04:11<00:00, 25.18s/it]\n"
          ],
          "name": "stderr"
        }
      ]
    }
  ]
}