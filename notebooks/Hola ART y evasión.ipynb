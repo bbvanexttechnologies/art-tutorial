{
  "nbformat": 4,
  "nbformat_minor": 0,
  "metadata": {
    "colab": {
      "name": "Hola ART y evasión",
      "provenance": [],
      "collapsed_sections": []
    },
    "kernelspec": {
      "name": "python3",
      "display_name": "Python 3"
    },
    "accelerator": "GPU"
  },
  "cells": [
    {
      "cell_type": "markdown",
      "metadata": {
        "id": "CLrkyRc6-rD5"
      },
      "source": [
        "# ¡Hola, ART!"
      ]
    },
    {
      "cell_type": "markdown",
      "metadata": {
        "id": "NuoZ5bhE-2_0"
      },
      "source": [
        "## Instalación"
      ]
    },
    {
      "cell_type": "code",
      "metadata": {
        "id": "Zua3aciV-O5K",
        "outputId": "cd6c7101-7829-4deb-e4b7-922c9ee7b915",
        "colab": {
          "base_uri": "https://localhost:8080/",
          "height": 836
        }
      },
      "source": [
        "!pip install adversarial-robustness-toolbox==1.4.1"
      ],
      "execution_count": 1,
      "outputs": [
        {
          "output_type": "stream",
          "text": [
            "Collecting adversarial-robustness-toolbox==1.4.1\n",
            "\u001b[?25l  Downloading https://files.pythonhosted.org/packages/fe/8d/e7b34237bb7622c465ed8a3afae301f1689f795bc49e41b8fcd3ae849511/adversarial_robustness_toolbox-1.4.1-py3-none-any.whl (761kB)\n",
            "\r\u001b[K     |▍                               | 10kB 17.1MB/s eta 0:00:01\r\u001b[K     |▉                               | 20kB 3.2MB/s eta 0:00:01\r\u001b[K     |█▎                              | 30kB 3.4MB/s eta 0:00:01\r\u001b[K     |█▊                              | 40kB 3.9MB/s eta 0:00:01\r\u001b[K     |██▏                             | 51kB 3.9MB/s eta 0:00:01\r\u001b[K     |██▋                             | 61kB 4.3MB/s eta 0:00:01\r\u001b[K     |███                             | 71kB 4.3MB/s eta 0:00:01\r\u001b[K     |███▍                            | 81kB 4.8MB/s eta 0:00:01\r\u001b[K     |███▉                            | 92kB 4.8MB/s eta 0:00:01\r\u001b[K     |████▎                           | 102kB 5.1MB/s eta 0:00:01\r\u001b[K     |████▊                           | 112kB 5.1MB/s eta 0:00:01\r\u001b[K     |█████▏                          | 122kB 5.1MB/s eta 0:00:01\r\u001b[K     |█████▋                          | 133kB 5.1MB/s eta 0:00:01\r\u001b[K     |██████                          | 143kB 5.1MB/s eta 0:00:01\r\u001b[K     |██████▌                         | 153kB 5.1MB/s eta 0:00:01\r\u001b[K     |██████▉                         | 163kB 5.1MB/s eta 0:00:01\r\u001b[K     |███████▎                        | 174kB 5.1MB/s eta 0:00:01\r\u001b[K     |███████▊                        | 184kB 5.1MB/s eta 0:00:01\r\u001b[K     |████████▏                       | 194kB 5.1MB/s eta 0:00:01\r\u001b[K     |████████▋                       | 204kB 5.1MB/s eta 0:00:01\r\u001b[K     |█████████                       | 215kB 5.1MB/s eta 0:00:01\r\u001b[K     |█████████▌                      | 225kB 5.1MB/s eta 0:00:01\r\u001b[K     |██████████                      | 235kB 5.1MB/s eta 0:00:01\r\u001b[K     |██████████▎                     | 245kB 5.1MB/s eta 0:00:01\r\u001b[K     |██████████▊                     | 256kB 5.1MB/s eta 0:00:01\r\u001b[K     |███████████▏                    | 266kB 5.1MB/s eta 0:00:01\r\u001b[K     |███████████▋                    | 276kB 5.1MB/s eta 0:00:01\r\u001b[K     |████████████                    | 286kB 5.1MB/s eta 0:00:01\r\u001b[K     |████████████▌                   | 296kB 5.1MB/s eta 0:00:01\r\u001b[K     |█████████████                   | 307kB 5.1MB/s eta 0:00:01\r\u001b[K     |█████████████▍                  | 317kB 5.1MB/s eta 0:00:01\r\u001b[K     |█████████████▊                  | 327kB 5.1MB/s eta 0:00:01\r\u001b[K     |██████████████▏                 | 337kB 5.1MB/s eta 0:00:01\r\u001b[K     |██████████████▋                 | 348kB 5.1MB/s eta 0:00:01\r\u001b[K     |███████████████                 | 358kB 5.1MB/s eta 0:00:01\r\u001b[K     |███████████████▌                | 368kB 5.1MB/s eta 0:00:01\r\u001b[K     |████████████████                | 378kB 5.1MB/s eta 0:00:01\r\u001b[K     |████████████████▍               | 389kB 5.1MB/s eta 0:00:01\r\u001b[K     |████████████████▊               | 399kB 5.1MB/s eta 0:00:01\r\u001b[K     |█████████████████▏              | 409kB 5.1MB/s eta 0:00:01\r\u001b[K     |█████████████████▋              | 419kB 5.1MB/s eta 0:00:01\r\u001b[K     |██████████████████              | 430kB 5.1MB/s eta 0:00:01\r\u001b[K     |██████████████████▌             | 440kB 5.1MB/s eta 0:00:01\r\u001b[K     |███████████████████             | 450kB 5.1MB/s eta 0:00:01\r\u001b[K     |███████████████████▍            | 460kB 5.1MB/s eta 0:00:01\r\u001b[K     |███████████████████▉            | 471kB 5.1MB/s eta 0:00:01\r\u001b[K     |████████████████████▏           | 481kB 5.1MB/s eta 0:00:01\r\u001b[K     |████████████████████▋           | 491kB 5.1MB/s eta 0:00:01\r\u001b[K     |█████████████████████           | 501kB 5.1MB/s eta 0:00:01\r\u001b[K     |█████████████████████▌          | 512kB 5.1MB/s eta 0:00:01\r\u001b[K     |██████████████████████          | 522kB 5.1MB/s eta 0:00:01\r\u001b[K     |██████████████████████▍         | 532kB 5.1MB/s eta 0:00:01\r\u001b[K     |██████████████████████▉         | 542kB 5.1MB/s eta 0:00:01\r\u001b[K     |███████████████████████▎        | 552kB 5.1MB/s eta 0:00:01\r\u001b[K     |███████████████████████▋        | 563kB 5.1MB/s eta 0:00:01\r\u001b[K     |████████████████████████        | 573kB 5.1MB/s eta 0:00:01\r\u001b[K     |████████████████████████▌       | 583kB 5.1MB/s eta 0:00:01\r\u001b[K     |█████████████████████████       | 593kB 5.1MB/s eta 0:00:01\r\u001b[K     |█████████████████████████▍      | 604kB 5.1MB/s eta 0:00:01\r\u001b[K     |█████████████████████████▉      | 614kB 5.1MB/s eta 0:00:01\r\u001b[K     |██████████████████████████▎     | 624kB 5.1MB/s eta 0:00:01\r\u001b[K     |██████████████████████████▊     | 634kB 5.1MB/s eta 0:00:01\r\u001b[K     |███████████████████████████     | 645kB 5.1MB/s eta 0:00:01\r\u001b[K     |███████████████████████████▌    | 655kB 5.1MB/s eta 0:00:01\r\u001b[K     |████████████████████████████    | 665kB 5.1MB/s eta 0:00:01\r\u001b[K     |████████████████████████████▍   | 675kB 5.1MB/s eta 0:00:01\r\u001b[K     |████████████████████████████▉   | 686kB 5.1MB/s eta 0:00:01\r\u001b[K     |█████████████████████████████▎  | 696kB 5.1MB/s eta 0:00:01\r\u001b[K     |█████████████████████████████▊  | 706kB 5.1MB/s eta 0:00:01\r\u001b[K     |██████████████████████████████  | 716kB 5.1MB/s eta 0:00:01\r\u001b[K     |██████████████████████████████▌ | 727kB 5.1MB/s eta 0:00:01\r\u001b[K     |███████████████████████████████ | 737kB 5.1MB/s eta 0:00:01\r\u001b[K     |███████████████████████████████▍| 747kB 5.1MB/s eta 0:00:01\r\u001b[K     |███████████████████████████████▉| 757kB 5.1MB/s eta 0:00:01\r\u001b[K     |████████████████████████████████| 768kB 5.1MB/s \n",
            "\u001b[?25hRequirement already satisfied: resampy in /usr/local/lib/python3.6/dist-packages (from adversarial-robustness-toolbox==1.4.1) (0.2.2)\n",
            "Requirement already satisfied: scipy==1.4.1 in /usr/local/lib/python3.6/dist-packages (from adversarial-robustness-toolbox==1.4.1) (1.4.1)\n",
            "Requirement already satisfied: numpy in /usr/local/lib/python3.6/dist-packages (from adversarial-robustness-toolbox==1.4.1) (1.18.5)\n",
            "Collecting scikit-learn==0.22.2\n",
            "\u001b[?25l  Downloading https://files.pythonhosted.org/packages/e1/7f/366dcba1ba076a88a50bea732dbc033c0c5bbf7876010e6edc67948579d5/scikit_learn-0.22.2-cp36-cp36m-manylinux1_x86_64.whl (7.1MB)\n",
            "\u001b[K     |████████████████████████████████| 7.1MB 6.2MB/s \n",
            "\u001b[?25hCollecting pydub\n",
            "  Downloading https://files.pythonhosted.org/packages/7b/d1/fbfa79371a8cd9bb15c2e3c480d7e6e340ed5cc55005174e16f48418333a/pydub-0.24.1-py2.py3-none-any.whl\n",
            "Requirement already satisfied: tqdm in /usr/local/lib/python3.6/dist-packages (from adversarial-robustness-toolbox==1.4.1) (4.41.1)\n",
            "Collecting ffmpeg-python\n",
            "  Downloading https://files.pythonhosted.org/packages/d7/0c/56be52741f75bad4dc6555991fabd2e07b432d333da82c11ad701123888a/ffmpeg_python-0.2.0-py3-none-any.whl\n",
            "Collecting cma\n",
            "\u001b[?25l  Downloading https://files.pythonhosted.org/packages/36/c0/0a1c41f7cad0a51e07991cf86423d0e6651d035f1fe7dcff48e8858848f2/cma-3.0.3-py2.py3-none-any.whl (230kB)\n",
            "\u001b[K     |████████████████████████████████| 235kB 56.5MB/s \n",
            "\u001b[?25hRequirement already satisfied: setuptools in /usr/local/lib/python3.6/dist-packages (from adversarial-robustness-toolbox==1.4.1) (50.3.0)\n",
            "Requirement already satisfied: matplotlib in /usr/local/lib/python3.6/dist-packages (from adversarial-robustness-toolbox==1.4.1) (3.2.2)\n",
            "Requirement already satisfied: six in /usr/local/lib/python3.6/dist-packages (from adversarial-robustness-toolbox==1.4.1) (1.15.0)\n",
            "Requirement already satisfied: Pillow in /usr/local/lib/python3.6/dist-packages (from adversarial-robustness-toolbox==1.4.1) (7.0.0)\n",
            "Requirement already satisfied: statsmodels in /usr/local/lib/python3.6/dist-packages (from adversarial-robustness-toolbox==1.4.1) (0.10.2)\n",
            "Collecting mypy\n",
            "\u001b[?25l  Downloading https://files.pythonhosted.org/packages/e2/cb/cf5530d063e7e703e2fbec677bfba633de6e70fe44bc323deeaa27f273b8/mypy-0.790-cp36-cp36m-manylinux1_x86_64.whl (21.0MB)\n",
            "\u001b[K     |████████████████████████████████| 21.0MB 74.6MB/s \n",
            "\u001b[?25hRequirement already satisfied: numba>=0.32 in /usr/local/lib/python3.6/dist-packages (from resampy->adversarial-robustness-toolbox==1.4.1) (0.48.0)\n",
            "Requirement already satisfied: joblib>=0.11 in /usr/local/lib/python3.6/dist-packages (from scikit-learn==0.22.2->adversarial-robustness-toolbox==1.4.1) (0.16.0)\n",
            "Requirement already satisfied: future in /usr/local/lib/python3.6/dist-packages (from ffmpeg-python->adversarial-robustness-toolbox==1.4.1) (0.16.0)\n",
            "Requirement already satisfied: pyparsing!=2.0.4,!=2.1.2,!=2.1.6,>=2.0.1 in /usr/local/lib/python3.6/dist-packages (from matplotlib->adversarial-robustness-toolbox==1.4.1) (2.4.7)\n",
            "Requirement already satisfied: python-dateutil>=2.1 in /usr/local/lib/python3.6/dist-packages (from matplotlib->adversarial-robustness-toolbox==1.4.1) (2.8.1)\n",
            "Requirement already satisfied: cycler>=0.10 in /usr/local/lib/python3.6/dist-packages (from matplotlib->adversarial-robustness-toolbox==1.4.1) (0.10.0)\n",
            "Requirement already satisfied: kiwisolver>=1.0.1 in /usr/local/lib/python3.6/dist-packages (from matplotlib->adversarial-robustness-toolbox==1.4.1) (1.2.0)\n",
            "Requirement already satisfied: pandas>=0.19 in /usr/local/lib/python3.6/dist-packages (from statsmodels->adversarial-robustness-toolbox==1.4.1) (1.1.2)\n",
            "Requirement already satisfied: patsy>=0.4.0 in /usr/local/lib/python3.6/dist-packages (from statsmodels->adversarial-robustness-toolbox==1.4.1) (0.5.1)\n",
            "Requirement already satisfied: typing-extensions>=3.7.4 in /usr/local/lib/python3.6/dist-packages (from mypy->adversarial-robustness-toolbox==1.4.1) (3.7.4.3)\n",
            "Collecting typed-ast<1.5.0,>=1.4.0\n",
            "\u001b[?25l  Downloading https://files.pythonhosted.org/packages/90/ed/5459080d95eb87a02fe860d447197be63b6e2b5e9ff73c2b0a85622994f4/typed_ast-1.4.1-cp36-cp36m-manylinux1_x86_64.whl (737kB)\n",
            "\u001b[K     |████████████████████████████████| 747kB 52.5MB/s \n",
            "\u001b[?25hCollecting mypy-extensions<0.5.0,>=0.4.3\n",
            "  Downloading https://files.pythonhosted.org/packages/5c/eb/975c7c080f3223a5cdaff09612f3a5221e4ba534f7039db34c35d95fa6a5/mypy_extensions-0.4.3-py2.py3-none-any.whl\n",
            "Requirement already satisfied: llvmlite<0.32.0,>=0.31.0dev0 in /usr/local/lib/python3.6/dist-packages (from numba>=0.32->resampy->adversarial-robustness-toolbox==1.4.1) (0.31.0)\n",
            "Requirement already satisfied: pytz>=2017.2 in /usr/local/lib/python3.6/dist-packages (from pandas>=0.19->statsmodels->adversarial-robustness-toolbox==1.4.1) (2018.9)\n",
            "Installing collected packages: scikit-learn, pydub, ffmpeg-python, cma, typed-ast, mypy-extensions, mypy, adversarial-robustness-toolbox\n",
            "  Found existing installation: scikit-learn 0.22.2.post1\n",
            "    Uninstalling scikit-learn-0.22.2.post1:\n",
            "      Successfully uninstalled scikit-learn-0.22.2.post1\n",
            "Successfully installed adversarial-robustness-toolbox-1.4.1 cma-3.0.3 ffmpeg-python-0.2.0 mypy-0.790 mypy-extensions-0.4.3 pydub-0.24.1 scikit-learn-0.22.2 typed-ast-1.4.1\n"
          ],
          "name": "stdout"
        }
      ]
    },
    {
      "cell_type": "code",
      "metadata": {
        "id": "1M8cmX6Y_MaU"
      },
      "source": [
        "import keras\n",
        "from keras.models import Sequential\n",
        "from keras.layers import Dense, Flatten, Conv2D, MaxPooling2D\n",
        "import numpy as np\n",
        "import matplotlib.pyplot as plt\n",
        "from art.utils import load_mnist"
      ],
      "execution_count": 2,
      "outputs": []
    },
    {
      "cell_type": "code",
      "metadata": {
        "id": "3JSlG18GC1RT"
      },
      "source": [
        "import tensorflow as tf\n",
        "tf.compat.v1.disable_eager_execution()\n",
        "\n",
        "import warnings\n",
        "warnings.filterwarnings('ignore')"
      ],
      "execution_count": 3,
      "outputs": []
    },
    {
      "cell_type": "code",
      "metadata": {
        "id": "6k-Q4bnG_SWG"
      },
      "source": [
        "%matplotlib inline"
      ],
      "execution_count": 4,
      "outputs": []
    },
    {
      "cell_type": "markdown",
      "metadata": {
        "id": "rYWQUSRC_WLT"
      },
      "source": [
        "## Cargar datos"
      ]
    },
    {
      "cell_type": "code",
      "metadata": {
        "id": "hq1wjOgu_a1U"
      },
      "source": [
        "(x_train, y_train), (x_test, y_test), min_pixel_value, max_pixel_value = load_mnist()"
      ],
      "execution_count": 5,
      "outputs": []
    },
    {
      "cell_type": "code",
      "metadata": {
        "id": "YCASWXza_dK1",
        "outputId": "575856db-d3bf-4139-b55f-e41a9cd40b01",
        "colab": {
          "base_uri": "https://localhost:8080/",
          "height": 119
        }
      },
      "source": [
        "print(\"x_train shape:\", x_train.shape)\n",
        "print(\"y_train shape:\", x_train.shape)\n",
        "print(\"x_test shape:\", x_train.shape)\n",
        "print(\"y_test shape:\", x_train.shape)\n",
        "\n",
        "print(\"min_pixel_value:\", min_pixel_value)\n",
        "print(\"min_pixel_value:\", max_pixel_value)"
      ],
      "execution_count": 6,
      "outputs": [
        {
          "output_type": "stream",
          "text": [
            "x_train shape: (60000, 28, 28, 1)\n",
            "y_train shape: (60000, 28, 28, 1)\n",
            "x_test shape: (60000, 28, 28, 1)\n",
            "y_test shape: (60000, 28, 28, 1)\n",
            "min_pixel_value: 0.0\n",
            "min_pixel_value: 1.0\n"
          ],
          "name": "stdout"
        }
      ]
    },
    {
      "cell_type": "code",
      "metadata": {
        "id": "x7I2LY9T_k22",
        "outputId": "fdd179ac-30c2-4503-9c89-b57620526e92",
        "colab": {
          "base_uri": "https://localhost:8080/",
          "height": 282
        }
      },
      "source": [
        "sample = 50897\n",
        "plt.imshow(x_train[sample].reshape((28, 28)), cmap='gray', interpolation='none')"
      ],
      "execution_count": 7,
      "outputs": [
        {
          "output_type": "execute_result",
          "data": {
            "text/plain": [
              "<matplotlib.image.AxesImage at 0x7fcf6bf48320>"
            ]
          },
          "metadata": {
            "tags": []
          },
          "execution_count": 7
        },
        {
          "output_type": "display_data",
          "data": {
            "image/png": "[encoded data removed]",
            "text/plain": [
              "<Figure size 432x288 with 1 Axes>"
            ]
          },
          "metadata": {
            "tags": [],
            "needs_background": "light"
          }
        }
      ]
    },
    {
      "cell_type": "markdown",
      "metadata": {
        "id": "gGp89T6o_s3M"
      },
      "source": [
        "## Entrenar modelo"
      ]
    },
    {
      "cell_type": "code",
      "metadata": {
        "id": "gTOks8pDAObr"
      },
      "source": [
        "from art.estimators.classification import KerasClassifier"
      ],
      "execution_count": 8,
      "outputs": []
    },
    {
      "cell_type": "code",
      "metadata": {
        "id": "IwvRBqtoARMM",
        "outputId": "44924ac0-ee3f-444e-9dc5-2ea59b5655af",
        "colab": {
          "base_uri": "https://localhost:8080/",
          "height": 190
        }
      },
      "source": [
        "model = Sequential()\n",
        "model.add(Conv2D(filters=4, kernel_size=(5, 5), strides=1, activation=\"relu\", input_shape=(28, 28, 1)))\n",
        "model.add(MaxPooling2D(pool_size=(2, 2)))\n",
        "model.add(Conv2D(filters=10, kernel_size=(5, 5), strides=1, activation=\"relu\", input_shape=(23, 23, 4)))\n",
        "model.add(MaxPooling2D(pool_size=(2, 2)))\n",
        "model.add(Flatten())\n",
        "model.add(Dense(100, activation=\"relu\"))\n",
        "model.add(Dense(10, activation=\"softmax\"))\n",
        "\n",
        "model.compile(loss=keras.losses.categorical_crossentropy, optimizer=keras.optimizers.Adam(lr=0.01), metrics=[\"accuracy\"])\n",
        "classifier = KerasClassifier(model=model, clip_values=(min_pixel_value, max_pixel_value), use_logits=False)\n",
        "\n",
        "classifier.fit(x_train, y_train, batch_size=64, nb_epochs=3)"
      ],
      "execution_count": 9,
      "outputs": [
        {
          "output_type": "stream",
          "text": [
            "WARNING:tensorflow:From /usr/local/lib/python3.6/dist-packages/art/estimators/classification/keras.py:494: Model.fit_generator (from tensorflow.python.keras.engine.training_v1) is deprecated and will be removed in a future version.\n",
            "Instructions for updating:\n",
            "Please use Model.fit, which supports generators.\n",
            "Epoch 1/3\n",
            "937/937 [==============================] - 3s 3ms/step - batch: 468.0000 - size: 64.0000 - loss: 0.1483 - accuracy: 0.9543\n",
            "Epoch 2/3\n",
            "937/937 [==============================] - 3s 3ms/step - batch: 468.0000 - size: 64.0000 - loss: 0.0733 - accuracy: 0.9782\n",
            "Epoch 3/3\n",
            "937/937 [==============================] - 3s 3ms/step - batch: 468.0000 - size: 64.0000 - loss: 0.0670 - accuracy: 0.9800\n"
          ],
          "name": "stdout"
        }
      ]
    },
    {
      "cell_type": "code",
      "metadata": {
        "id": "HoS7HK-8ATSa",
        "outputId": "633853a8-3c5a-4cb0-c73c-8a8fdb6059fa",
        "colab": {
          "base_uri": "https://localhost:8080/",
          "height": 105
        }
      },
      "source": [
        "predictions_test = classifier.predict(x_test)\n",
        "accuracy = np.sum(np.argmax(predictions_test, axis=1) == np.argmax(y_test, axis=1)) / len(y_test)\n",
        "print(\"Accuracy on test examples: {}%\".format(accuracy * 100))"
      ],
      "execution_count": 10,
      "outputs": [
        {
          "output_type": "stream",
          "text": [
            "WARNING:tensorflow:From /usr/local/lib/python3.6/dist-packages/tensorflow/python/keras/engine/training_v1.py:2070: Model.state_updates (from tensorflow.python.keras.engine.training) is deprecated and will be removed in a future version.\n",
            "Instructions for updating:\n",
            "This property should not be used in TensorFlow 2.0, as updates are applied automatically.\n",
            "Accuracy on test examples: 97.99%\n"
          ],
          "name": "stdout"
        }
      ]
    },
    {
      "cell_type": "markdown",
      "metadata": {
        "id": "8RjSGz4MAa5n"
      },
      "source": [
        "## Generar ejemplos adversarios"
      ]
    },
    {
      "cell_type": "code",
      "metadata": {
        "id": "LzFU47WnAd9T"
      },
      "source": [
        "from art.attacks.evasion import FastGradientMethod, SaliencyMapMethod, CarliniL2Method"
      ],
      "execution_count": 11,
      "outputs": []
    },
    {
      "cell_type": "code",
      "metadata": {
        "id": "QH6qevlrAkGh"
      },
      "source": [
        "attack_fgm = FastGradientMethod(estimator = classifier, eps = 0.2)\n",
        "x_test_fgm = attack_fgm.generate(x=x_test)"
      ],
      "execution_count": 12,
      "outputs": []
    },
    {
      "cell_type": "code",
      "metadata": {
        "id": "awFmtipPFFla",
        "outputId": "9b1abb93-8af4-487a-bcea-b2e68cdb83bb",
        "colab": {
          "base_uri": "https://localhost:8080/",
          "height": 34
        }
      },
      "source": [
        "predictions_test = classifier.predict(x_test_fgm)\n",
        "accuracy = np.sum(np.argmax(predictions_test, axis=1) == np.argmax(y_test, axis=1)) / len(y_test)\n",
        "print(\"Accuracy on test adversarial examples: {}%\".format(accuracy * 100))"
      ],
      "execution_count": 13,
      "outputs": [
        {
          "output_type": "stream",
          "text": [
            "Accuracy on test adversarial examples: 34.339999999999996%\n"
          ],
          "name": "stdout"
        }
      ]
    },
    {
      "cell_type": "code",
      "metadata": {
        "id": "9w5pLUQrAo4e",
        "outputId": "1abd3dda-81eb-4583-e13c-a08387240086",
        "colab": {
          "base_uri": "https://localhost:8080/",
          "height": 34
        }
      },
      "source": [
        "attack_jsma = SaliencyMapMethod(classifier = classifier, theta = 0.1)\n",
        "x_test_jsma = attack_jsma.generate(x=x_test)"
      ],
      "execution_count": 14,
      "outputs": [
        {
          "output_type": "stream",
          "text": [
            "JSMA: 100%|██████████| 10000/10000 [35:09<00:00,  4.74it/s]\n"
          ],
          "name": "stderr"
        }
      ]
    },
    {
      "cell_type": "code",
      "metadata": {
        "id": "pfVpCiIoApVH",
        "outputId": "3402cb0d-d4c4-433f-87a1-c81a80cdc328",
        "colab": {
          "base_uri": "https://localhost:8080/",
          "height": 34
        }
      },
      "source": [
        "attack_cw2 = CarliniL2Method(classifier = classifier)\n",
        "x_test_cw2 = attack_cw2.generate(x=x_test)"
      ],
      "execution_count": 15,
      "outputs": [
        {
          "output_type": "stream",
          "text": [
            "C&W L_2: 100%|██████████| 10000/10000 [2:50:29<00:00,  1.02s/it]\n"
          ],
          "name": "stderr"
        }
      ]
    },
    {
      "cell_type": "code",
      "metadata": {
        "id": "NwA_9MqkAvyt",
        "outputId": "d66f2b07-169f-4500-8318-f01b0ea18f6e",
        "colab": {
          "base_uri": "https://localhost:8080/",
          "height": 68
        }
      },
      "source": [
        "attacks = [\"fgm\", \"jsma\", \"c&w l2\"]\n",
        "x_tests_attacks = [x_test_fgm, x_test_jsma, x_test_cw2]\n",
        "predictions = []\n",
        "\n",
        "for i, x in enumerate(x_tests_attacks):\n",
        "  preds = classifier.predict(x)\n",
        "  predictions.append(preds)\n",
        "  accuracy = np.sum(np.argmax(preds, axis=1) == np.argmax(y_test, axis=1)) / len(y_test)\n",
        "  print(\"Accuracy on adversarial test examples for {} attack: {}%\".format(attacks[i], accuracy * 100))"
      ],
      "execution_count": 16,
      "outputs": [
        {
          "output_type": "stream",
          "text": [
            "Accuracy on adversarial test examples for fgm attack: 34.339999999999996%\n",
            "Accuracy on adversarial test examples for jsma attack: 0.33%\n",
            "Accuracy on adversarial test examples for c&w l2 attack: 84.64%\n"
          ],
          "name": "stdout"
        }
      ]
    },
    {
      "cell_type": "code",
      "metadata": {
        "id": "sWpTJqgTAwtS",
        "outputId": "6b63998d-c9a5-4fc0-9071-20c07bbac43c",
        "colab": {
          "base_uri": "https://localhost:8080/",
          "height": 290
        }
      },
      "source": [
        "sample = 1234\n",
        "fig = plt.figure(figsize=(20,10))\n",
        "ax = fig.add_subplot(1, 4, 1)\n",
        "ax.imshow(x_test[sample].reshape((28, 28)), cmap='gray', interpolation='none')\n",
        "ax.set_title(\"Original: {}\".format(np.argmax(y_test[sample])))\n",
        "ax.axis('off')\n",
        "ax = fig.add_subplot(1, 4, 2)\n",
        "ax.imshow(x_test_fgm[sample].reshape((28, 28)), cmap='gray', interpolation='none')\n",
        "ax.set_title(\"Adversarial (FGSM): {}\".format(np.argmax(predictions[0][sample])))\n",
        "ax.axis('off')\n",
        "ax = fig.add_subplot(1, 4, 3)\n",
        "ax.imshow(x_test_jsma[sample].reshape((28, 28)), cmap='gray', interpolation='none')\n",
        "ax.set_title(\"Adversarial (JSMA): {}\".format(np.argmax(predictions[1][sample])))\n",
        "ax.axis('off')\n",
        "ax = fig.add_subplot(1, 4, 4)\n",
        "ax.imshow(x_test_cw2[sample].reshape((28, 28)), cmap='gray', interpolation='none')\n",
        "ax.set_title(\"Adversarial (C&W L2): {}\".format(np.argmax(predictions[2][sample])))\n",
        "ax.axis('off')\n",
        "fig.show()"
      ],
      "execution_count": 17,
      "outputs": [
        {
          "output_type": "display_data",
          "data": {
            "image/png": "[encoded data removed]",
            "text/plain": [
              "<Figure size 1440x720 with 4 Axes>"
            ]
          },
          "metadata": {
            "tags": [],
            "needs_background": "light"
          }
        }
      ]
    },
    {
      "cell_type": "markdown",
      "metadata": {
        "id": "bXZyqv27Ag9N"
      },
      "source": [
        "# Entrenamiento adversario"
      ]
    },
    {
      "cell_type": "code",
      "metadata": {
        "id": "hZtOAlI5BGX2"
      },
      "source": [
        "x_train_fgm = attack_fgm.generate(x=x_train)"
      ],
      "execution_count": 18,
      "outputs": []
    },
    {
      "cell_type": "code",
      "metadata": {
        "id": "BggbW6KoBJNk"
      },
      "source": [
        "x_train = np.append(x_train, x_train_fgm, axis=0)\n",
        "y_train = np.append(y_train, y_train, axis=0)"
      ],
      "execution_count": 19,
      "outputs": []
    },
    {
      "cell_type": "code",
      "metadata": {
        "id": "IOdjNpvJBLIz",
        "outputId": "1b119d4b-e0c6-4539-b3b7-6ca48b6e90b6",
        "colab": {
          "base_uri": "https://localhost:8080/",
          "height": 119
        }
      },
      "source": [
        "model.compile(loss=keras.losses.categorical_crossentropy, optimizer=keras.optimizers.Adam(lr=0.01), metrics=[\"accuracy\"])\n",
        "\n",
        "classifier.fit(x_train, y_train, batch_size=64, nb_epochs=3)"
      ],
      "execution_count": 20,
      "outputs": [
        {
          "output_type": "stream",
          "text": [
            "Epoch 1/3\n",
            "1875/1875 [==============================] - 6s 3ms/step - batch: 937.0000 - size: 64.0000 - loss: 0.1478 - accuracy: 0.9551\n",
            "Epoch 2/3\n",
            "1875/1875 [==============================] - 6s 3ms/step - batch: 937.0000 - size: 64.0000 - loss: 0.0988 - accuracy: 0.9702\n",
            "Epoch 3/3\n",
            "1875/1875 [==============================] - 6s 3ms/step - batch: 937.0000 - size: 64.0000 - loss: 0.0908 - accuracy: 0.9731\n"
          ],
          "name": "stdout"
        }
      ]
    },
    {
      "cell_type": "code",
      "metadata": {
        "id": "2WLDCQoIBRiT",
        "outputId": "64e1dbf7-61fe-4c54-9107-ccac926c6754",
        "colab": {
          "base_uri": "https://localhost:8080/",
          "height": 51
        }
      },
      "source": [
        "predictions_test = classifier.predict(x_test)\n",
        "accuracy = np.sum(np.argmax(predictions_test, axis=1) == np.argmax(y_test, axis=1)) / len(y_test)\n",
        "print(\"Accuracy on test examples: {}%\".format(accuracy * 100))\n",
        "\n",
        "predictions_fsm = classifier.predict(x_test_fgm)\n",
        "accuracy = np.sum(np.argmax(predictions_fsm, axis=1) == np.argmax(y_test, axis=1)) / len(y_test)\n",
        "print(\"Accuracy on adversarial test examples for JSM attack: {}%\".format(accuracy * 100))"
      ],
      "execution_count": 21,
      "outputs": [
        {
          "output_type": "stream",
          "text": [
            "Accuracy on test examples: 96.84%\n",
            "Accuracy on adversarial test examples for JSM attack: 93.22%\n"
          ],
          "name": "stdout"
        }
      ]
    },
    {
      "cell_type": "markdown",
      "metadata": {
        "id": "FaoK60dJcHcy"
      },
      "source": [
        "## Entrenamiento adversario de forma nativa"
      ]
    },
    {
      "cell_type": "code",
      "metadata": {
        "id": "brtrAWaCUSmz"
      },
      "source": [
        "from art.defences.trainer import AdversarialTrainer"
      ],
      "execution_count": 22,
      "outputs": []
    },
    {
      "cell_type": "code",
      "metadata": {
        "id": "AE_5ZSKLUuCu"
      },
      "source": [
        "model.compile(loss=keras.losses.categorical_crossentropy, optimizer=keras.optimizers.Adam(lr=0.01), metrics=[\"accuracy\"])"
      ],
      "execution_count": 23,
      "outputs": []
    },
    {
      "cell_type": "code",
      "metadata": {
        "id": "7zL6s6qfUZ4Y"
      },
      "source": [
        "defence = AdversarialTrainer(classifier=classifier, attacks=attack_fgm, ratio=0.5)"
      ],
      "execution_count": 24,
      "outputs": []
    },
    {
      "cell_type": "code",
      "metadata": {
        "id": "TXRJQTipVFuu"
      },
      "source": [
        "(x_train, y_train), (x_test, y_test), min_pixel_value, max_pixel_value = load_mnist()"
      ],
      "execution_count": 25,
      "outputs": []
    },
    {
      "cell_type": "code",
      "metadata": {
        "id": "ww6WB1BjU59K",
        "outputId": "e9b57e9b-a934-4d00-99be-84e3e312503c",
        "colab": {
          "base_uri": "https://localhost:8080/",
          "height": 51
        }
      },
      "source": [
        "defence.fit(x=x_train, y=y_train, nb_epochs=3)"
      ],
      "execution_count": 26,
      "outputs": [
        {
          "output_type": "stream",
          "text": [
            "Precompute adv samples: 100%|██████████| 1/1 [00:00<00:00, 964.65it/s]\n",
            "Adversarial training epochs: 100%|██████████| 3/3 [00:26<00:00,  8.72s/it]\n"
          ],
          "name": "stderr"
        }
      ]
    },
    {
      "cell_type": "code",
      "metadata": {
        "id": "60HDLfwbVOiV",
        "outputId": "8ba262b4-456e-4ee3-d324-5149ce877dc8",
        "colab": {
          "base_uri": "https://localhost:8080/",
          "height": 51
        }
      },
      "source": [
        "predictions_test = classifier.predict(x_test)\n",
        "accuracy = np.sum(np.argmax(predictions_test, axis=1) == np.argmax(y_test, axis=1)) / len(y_test)\n",
        "print(\"Accuracy on test examples: {}%\".format(accuracy * 100))\n",
        "\n",
        "predictions_fsm = defence.predict(x_test_fgm)\n",
        "accuracy = np.sum(np.argmax(predictions_fsm, axis=1) == np.argmax(y_test, axis=1)) / len(y_test)\n",
        "print(\"Accuracy on adversarial test examples for JSM attack: {}%\".format(accuracy * 100))"
      ],
      "execution_count": 27,
      "outputs": [
        {
          "output_type": "stream",
          "text": [
            "Accuracy on test examples: 97.33000000000001%\n",
            "Accuracy on adversarial test examples for JSM attack: 93.13%\n"
          ],
          "name": "stdout"
        }
      ]
    }
  ]
}