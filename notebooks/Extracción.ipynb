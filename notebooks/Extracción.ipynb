{
  "nbformat": 4,
  "nbformat_minor": 0,
  "metadata": {
    "colab": {
      "name": "Extracción",
      "provenance": [],
      "collapsed_sections": []
    },
    "kernelspec": {
      "name": "python3",
      "display_name": "Python 3"
    },
    "accelerator": "GPU"
  },
  "cells": [
    {
      "cell_type": "markdown",
      "metadata": {
        "id": "CLrkyRc6-rD5"
      },
      "source": [
        "# Extracción"
      ]
    },
    {
      "cell_type": "markdown",
      "metadata": {
        "id": "NuoZ5bhE-2_0"
      },
      "source": [
        "## Instalación"
      ]
    },
    {
      "cell_type": "code",
      "metadata": {
        "id": "Zua3aciV-O5K",
        "outputId": "0ac4be66-81aa-456a-d4cb-b1ec130e6e10",
        "colab": {
          "base_uri": "https://localhost:8080/",
          "height": 836
        }
      },
      "source": [
        "!pip install adversarial-robustness-toolbox==1.4.1"
      ],
      "execution_count": 1,
      "outputs": [
        {
          "output_type": "stream",
          "text": [
            "Collecting adversarial-robustness-toolbox==1.4.1\n",
            "\u001b[?25l  Downloading https://files.pythonhosted.org/packages/fe/8d/e7b34237bb7622c465ed8a3afae301f1689f795bc49e41b8fcd3ae849511/adversarial_robustness_toolbox-1.4.1-py3-none-any.whl (761kB)\n",
            "\r\u001b[K     |▍                               | 10kB 15.3MB/s eta 0:00:01\r\u001b[K     |▉                               | 20kB 6.1MB/s eta 0:00:01\r\u001b[K     |█▎                              | 30kB 7.5MB/s eta 0:00:01\r\u001b[K     |█▊                              | 40kB 8.1MB/s eta 0:00:01\r\u001b[K     |██▏                             | 51kB 6.6MB/s eta 0:00:01\r\u001b[K     |██▋                             | 61kB 7.2MB/s eta 0:00:01\r\u001b[K     |███                             | 71kB 8.0MB/s eta 0:00:01\r\u001b[K     |███▍                            | 81kB 8.3MB/s eta 0:00:01\r\u001b[K     |███▉                            | 92kB 8.2MB/s eta 0:00:01\r\u001b[K     |████▎                           | 102kB 8.8MB/s eta 0:00:01\r\u001b[K     |████▊                           | 112kB 8.8MB/s eta 0:00:01\r\u001b[K     |█████▏                          | 122kB 8.8MB/s eta 0:00:01\r\u001b[K     |█████▋                          | 133kB 8.8MB/s eta 0:00:01\r\u001b[K     |██████                          | 143kB 8.8MB/s eta 0:00:01\r\u001b[K     |██████▌                         | 153kB 8.8MB/s eta 0:00:01\r\u001b[K     |██████▉                         | 163kB 8.8MB/s eta 0:00:01\r\u001b[K     |███████▎                        | 174kB 8.8MB/s eta 0:00:01\r\u001b[K     |███████▊                        | 184kB 8.8MB/s eta 0:00:01\r\u001b[K     |████████▏                       | 194kB 8.8MB/s eta 0:00:01\r\u001b[K     |████████▋                       | 204kB 8.8MB/s eta 0:00:01\r\u001b[K     |█████████                       | 215kB 8.8MB/s eta 0:00:01\r\u001b[K     |█████████▌                      | 225kB 8.8MB/s eta 0:00:01\r\u001b[K     |██████████                      | 235kB 8.8MB/s eta 0:00:01\r\u001b[K     |██████████▎                     | 245kB 8.8MB/s eta 0:00:01\r\u001b[K     |██████████▊                     | 256kB 8.8MB/s eta 0:00:01\r\u001b[K     |███████████▏                    | 266kB 8.8MB/s eta 0:00:01\r\u001b[K     |███████████▋                    | 276kB 8.8MB/s eta 0:00:01\r\u001b[K     |████████████                    | 286kB 8.8MB/s eta 0:00:01\r\u001b[K     |████████████▌                   | 296kB 8.8MB/s eta 0:00:01\r\u001b[K     |█████████████                   | 307kB 8.8MB/s eta 0:00:01\r\u001b[K     |█████████████▍                  | 317kB 8.8MB/s eta 0:00:01\r\u001b[K     |█████████████▊                  | 327kB 8.8MB/s eta 0:00:01\r\u001b[K     |██████████████▏                 | 337kB 8.8MB/s eta 0:00:01\r\u001b[K     |██████████████▋                 | 348kB 8.8MB/s eta 0:00:01\r\u001b[K     |███████████████                 | 358kB 8.8MB/s eta 0:00:01\r\u001b[K     |███████████████▌                | 368kB 8.8MB/s eta 0:00:01\r\u001b[K     |████████████████                | 378kB 8.8MB/s eta 0:00:01\r\u001b[K     |████████████████▍               | 389kB 8.8MB/s eta 0:00:01\r\u001b[K     |████████████████▊               | 399kB 8.8MB/s eta 0:00:01\r\u001b[K     |█████████████████▏              | 409kB 8.8MB/s eta 0:00:01\r\u001b[K     |█████████████████▋              | 419kB 8.8MB/s eta 0:00:01\r\u001b[K     |██████████████████              | 430kB 8.8MB/s eta 0:00:01\r\u001b[K     |██████████████████▌             | 440kB 8.8MB/s eta 0:00:01\r\u001b[K     |███████████████████             | 450kB 8.8MB/s eta 0:00:01\r\u001b[K     |███████████████████▍            | 460kB 8.8MB/s eta 0:00:01\r\u001b[K     |███████████████████▉            | 471kB 8.8MB/s eta 0:00:01\r\u001b[K     |████████████████████▏           | 481kB 8.8MB/s eta 0:00:01\r\u001b[K     |████████████████████▋           | 491kB 8.8MB/s eta 0:00:01\r\u001b[K     |█████████████████████           | 501kB 8.8MB/s eta 0:00:01\r\u001b[K     |█████████████████████▌          | 512kB 8.8MB/s eta 0:00:01\r\u001b[K     |██████████████████████          | 522kB 8.8MB/s eta 0:00:01\r\u001b[K     |██████████████████████▍         | 532kB 8.8MB/s eta 0:00:01\r\u001b[K     |██████████████████████▉         | 542kB 8.8MB/s eta 0:00:01\r\u001b[K     |███████████████████████▎        | 552kB 8.8MB/s eta 0:00:01\r\u001b[K     |███████████████████████▋        | 563kB 8.8MB/s eta 0:00:01\r\u001b[K     |████████████████████████        | 573kB 8.8MB/s eta 0:00:01\r\u001b[K     |████████████████████████▌       | 583kB 8.8MB/s eta 0:00:01\r\u001b[K     |█████████████████████████       | 593kB 8.8MB/s eta 0:00:01\r\u001b[K     |█████████████████████████▍      | 604kB 8.8MB/s eta 0:00:01\r\u001b[K     |█████████████████████████▉      | 614kB 8.8MB/s eta 0:00:01\r\u001b[K     |██████████████████████████▎     | 624kB 8.8MB/s eta 0:00:01\r\u001b[K     |██████████████████████████▊     | 634kB 8.8MB/s eta 0:00:01\r\u001b[K     |███████████████████████████     | 645kB 8.8MB/s eta 0:00:01\r\u001b[K     |███████████████████████████▌    | 655kB 8.8MB/s eta 0:00:01\r\u001b[K     |████████████████████████████    | 665kB 8.8MB/s eta 0:00:01\r\u001b[K     |████████████████████████████▍   | 675kB 8.8MB/s eta 0:00:01\r\u001b[K     |████████████████████████████▉   | 686kB 8.8MB/s eta 0:00:01\r\u001b[K     |█████████████████████████████▎  | 696kB 8.8MB/s eta 0:00:01\r\u001b[K     |█████████████████████████████▊  | 706kB 8.8MB/s eta 0:00:01\r\u001b[K     |██████████████████████████████  | 716kB 8.8MB/s eta 0:00:01\r\u001b[K     |██████████████████████████████▌ | 727kB 8.8MB/s eta 0:00:01\r\u001b[K     |███████████████████████████████ | 737kB 8.8MB/s eta 0:00:01\r\u001b[K     |███████████████████████████████▍| 747kB 8.8MB/s eta 0:00:01\r\u001b[K     |███████████████████████████████▉| 757kB 8.8MB/s eta 0:00:01\r\u001b[K     |████████████████████████████████| 768kB 8.8MB/s \n",
            "\u001b[?25hRequirement already satisfied: tqdm in /usr/local/lib/python3.6/dist-packages (from adversarial-robustness-toolbox==1.4.1) (4.41.1)\n",
            "Requirement already satisfied: matplotlib in /usr/local/lib/python3.6/dist-packages (from adversarial-robustness-toolbox==1.4.1) (3.2.2)\n",
            "Requirement already satisfied: six in /usr/local/lib/python3.6/dist-packages (from adversarial-robustness-toolbox==1.4.1) (1.15.0)\n",
            "Collecting pydub\n",
            "  Downloading https://files.pythonhosted.org/packages/7b/d1/fbfa79371a8cd9bb15c2e3c480d7e6e340ed5cc55005174e16f48418333a/pydub-0.24.1-py2.py3-none-any.whl\n",
            "Collecting ffmpeg-python\n",
            "  Downloading https://files.pythonhosted.org/packages/d7/0c/56be52741f75bad4dc6555991fabd2e07b432d333da82c11ad701123888a/ffmpeg_python-0.2.0-py3-none-any.whl\n",
            "Collecting cma\n",
            "\u001b[?25l  Downloading https://files.pythonhosted.org/packages/36/c0/0a1c41f7cad0a51e07991cf86423d0e6651d035f1fe7dcff48e8858848f2/cma-3.0.3-py2.py3-none-any.whl (230kB)\n",
            "\u001b[K     |████████████████████████████████| 235kB 13.5MB/s \n",
            "\u001b[?25hCollecting mypy\n",
            "\u001b[?25l  Downloading https://files.pythonhosted.org/packages/e2/cb/cf5530d063e7e703e2fbec677bfba633de6e70fe44bc323deeaa27f273b8/mypy-0.790-cp36-cp36m-manylinux1_x86_64.whl (21.0MB)\n",
            "\u001b[K     |████████████████████████████████| 21.0MB 69.8MB/s \n",
            "\u001b[?25hRequirement already satisfied: statsmodels in /usr/local/lib/python3.6/dist-packages (from adversarial-robustness-toolbox==1.4.1) (0.10.2)\n",
            "Requirement already satisfied: Pillow in /usr/local/lib/python3.6/dist-packages (from adversarial-robustness-toolbox==1.4.1) (7.0.0)\n",
            "Requirement already satisfied: numpy in /usr/local/lib/python3.6/dist-packages (from adversarial-robustness-toolbox==1.4.1) (1.18.5)\n",
            "Requirement already satisfied: resampy in /usr/local/lib/python3.6/dist-packages (from adversarial-robustness-toolbox==1.4.1) (0.2.2)\n",
            "Collecting scikit-learn==0.22.2\n",
            "\u001b[?25l  Downloading https://files.pythonhosted.org/packages/e1/7f/366dcba1ba076a88a50bea732dbc033c0c5bbf7876010e6edc67948579d5/scikit_learn-0.22.2-cp36-cp36m-manylinux1_x86_64.whl (7.1MB)\n",
            "\u001b[K     |████████████████████████████████| 7.1MB 47.9MB/s \n",
            "\u001b[?25hRequirement already satisfied: scipy==1.4.1 in /usr/local/lib/python3.6/dist-packages (from adversarial-robustness-toolbox==1.4.1) (1.4.1)\n",
            "Requirement already satisfied: setuptools in /usr/local/lib/python3.6/dist-packages (from adversarial-robustness-toolbox==1.4.1) (50.3.0)\n",
            "Requirement already satisfied: kiwisolver>=1.0.1 in /usr/local/lib/python3.6/dist-packages (from matplotlib->adversarial-robustness-toolbox==1.4.1) (1.2.0)\n",
            "Requirement already satisfied: python-dateutil>=2.1 in /usr/local/lib/python3.6/dist-packages (from matplotlib->adversarial-robustness-toolbox==1.4.1) (2.8.1)\n",
            "Requirement already satisfied: pyparsing!=2.0.4,!=2.1.2,!=2.1.6,>=2.0.1 in /usr/local/lib/python3.6/dist-packages (from matplotlib->adversarial-robustness-toolbox==1.4.1) (2.4.7)\n",
            "Requirement already satisfied: cycler>=0.10 in /usr/local/lib/python3.6/dist-packages (from matplotlib->adversarial-robustness-toolbox==1.4.1) (0.10.0)\n",
            "Requirement already satisfied: future in /usr/local/lib/python3.6/dist-packages (from ffmpeg-python->adversarial-robustness-toolbox==1.4.1) (0.16.0)\n",
            "Collecting typed-ast<1.5.0,>=1.4.0\n",
            "\u001b[?25l  Downloading https://files.pythonhosted.org/packages/90/ed/5459080d95eb87a02fe860d447197be63b6e2b5e9ff73c2b0a85622994f4/typed_ast-1.4.1-cp36-cp36m-manylinux1_x86_64.whl (737kB)\n",
            "\u001b[K     |████████████████████████████████| 747kB 53.0MB/s \n",
            "\u001b[?25hCollecting mypy-extensions<0.5.0,>=0.4.3\n",
            "  Downloading https://files.pythonhosted.org/packages/5c/eb/975c7c080f3223a5cdaff09612f3a5221e4ba534f7039db34c35d95fa6a5/mypy_extensions-0.4.3-py2.py3-none-any.whl\n",
            "Requirement already satisfied: typing-extensions>=3.7.4 in /usr/local/lib/python3.6/dist-packages (from mypy->adversarial-robustness-toolbox==1.4.1) (3.7.4.3)\n",
            "Requirement already satisfied: pandas>=0.19 in /usr/local/lib/python3.6/dist-packages (from statsmodels->adversarial-robustness-toolbox==1.4.1) (1.1.2)\n",
            "Requirement already satisfied: patsy>=0.4.0 in /usr/local/lib/python3.6/dist-packages (from statsmodels->adversarial-robustness-toolbox==1.4.1) (0.5.1)\n",
            "Requirement already satisfied: numba>=0.32 in /usr/local/lib/python3.6/dist-packages (from resampy->adversarial-robustness-toolbox==1.4.1) (0.48.0)\n",
            "Requirement already satisfied: joblib>=0.11 in /usr/local/lib/python3.6/dist-packages (from scikit-learn==0.22.2->adversarial-robustness-toolbox==1.4.1) (0.16.0)\n",
            "Requirement already satisfied: pytz>=2017.2 in /usr/local/lib/python3.6/dist-packages (from pandas>=0.19->statsmodels->adversarial-robustness-toolbox==1.4.1) (2018.9)\n",
            "Requirement already satisfied: llvmlite<0.32.0,>=0.31.0dev0 in /usr/local/lib/python3.6/dist-packages (from numba>=0.32->resampy->adversarial-robustness-toolbox==1.4.1) (0.31.0)\n",
            "Installing collected packages: pydub, ffmpeg-python, cma, typed-ast, mypy-extensions, mypy, scikit-learn, adversarial-robustness-toolbox\n",
            "  Found existing installation: scikit-learn 0.22.2.post1\n",
            "    Uninstalling scikit-learn-0.22.2.post1:\n",
            "      Successfully uninstalled scikit-learn-0.22.2.post1\n",
            "Successfully installed adversarial-robustness-toolbox-1.4.1 cma-3.0.3 ffmpeg-python-0.2.0 mypy-0.790 mypy-extensions-0.4.3 pydub-0.24.1 scikit-learn-0.22.2 typed-ast-1.4.1\n"
          ],
          "name": "stdout"
        }
      ]
    },
    {
      "cell_type": "code",
      "metadata": {
        "id": "1M8cmX6Y_MaU"
      },
      "source": [
        "import keras\n",
        "from keras.models import Sequential\n",
        "from keras.layers import Dense, Flatten, Conv2D, MaxPooling2D, Dropout\n",
        "import numpy as np\n",
        "import matplotlib.pyplot as plt\n",
        "from art.utils import load_mnist"
      ],
      "execution_count": 2,
      "outputs": []
    },
    {
      "cell_type": "code",
      "metadata": {
        "id": "3JSlG18GC1RT"
      },
      "source": [
        "from tensorflow.python.framework.ops import disable_eager_execution\n",
        "disable_eager_execution()\n",
        "\n",
        "import warnings\n",
        "warnings.filterwarnings('ignore')"
      ],
      "execution_count": 3,
      "outputs": []
    },
    {
      "cell_type": "code",
      "metadata": {
        "id": "6k-Q4bnG_SWG"
      },
      "source": [
        "%matplotlib inline"
      ],
      "execution_count": 4,
      "outputs": []
    },
    {
      "cell_type": "markdown",
      "metadata": {
        "id": "rYWQUSRC_WLT"
      },
      "source": [
        "## Cargar datos"
      ]
    },
    {
      "cell_type": "code",
      "metadata": {
        "id": "hq1wjOgu_a1U"
      },
      "source": [
        "(x_train, y_train), (x_test, y_test), min_pixel_value, max_pixel_value = load_mnist()"
      ],
      "execution_count": 5,
      "outputs": []
    },
    {
      "cell_type": "code",
      "metadata": {
        "id": "YCASWXza_dK1",
        "outputId": "42a8d4a4-3586-4bb0-8881-caadd51619b8",
        "colab": {
          "base_uri": "https://localhost:8080/",
          "height": 119
        }
      },
      "source": [
        "print(\"x_train shape:\", x_train.shape)\n",
        "print(\"y_train shape:\", x_train.shape)\n",
        "print(\"x_test shape:\", x_train.shape)\n",
        "print(\"y_test shape:\", x_train.shape)\n",
        "\n",
        "print(\"min_pixel_value:\", min_pixel_value)\n",
        "print(\"min_pixel_value:\", max_pixel_value)"
      ],
      "execution_count": 6,
      "outputs": [
        {
          "output_type": "stream",
          "text": [
            "x_train shape: (60000, 28, 28, 1)\n",
            "y_train shape: (60000, 28, 28, 1)\n",
            "x_test shape: (60000, 28, 28, 1)\n",
            "y_test shape: (60000, 28, 28, 1)\n",
            "min_pixel_value: 0.0\n",
            "min_pixel_value: 1.0\n"
          ],
          "name": "stdout"
        }
      ]
    },
    {
      "cell_type": "code",
      "metadata": {
        "id": "x7I2LY9T_k22",
        "outputId": "2ba695ce-3fca-4e02-b066-abdd8f9f09c1",
        "colab": {
          "base_uri": "https://localhost:8080/",
          "height": 282
        }
      },
      "source": [
        "sample = 567\n",
        "plt.imshow(x_train[sample].reshape((28, 28)), cmap='gray', interpolation='none')"
      ],
      "execution_count": 7,
      "outputs": [
        {
          "output_type": "execute_result",
          "data": {
            "text/plain": [
              "<matplotlib.image.AxesImage at 0x7f50a7ab9630>"
            ]
          },
          "metadata": {
            "tags": []
          },
          "execution_count": 7
        },
        {
          "output_type": "display_data",
          "data": {
            "image/png": "[encoded data removed]",
            "text/plain": [
              "<Figure size 432x288 with 1 Axes>"
            ]
          },
          "metadata": {
            "tags": [],
            "needs_background": "light"
          }
        }
      ]
    },
    {
      "cell_type": "markdown",
      "metadata": {
        "id": "gGp89T6o_s3M"
      },
      "source": [
        "## Entrenar modelo"
      ]
    },
    {
      "cell_type": "code",
      "metadata": {
        "id": "gTOks8pDAObr"
      },
      "source": [
        "from art.estimators.classification import KerasClassifier"
      ],
      "execution_count": 8,
      "outputs": []
    },
    {
      "cell_type": "code",
      "metadata": {
        "id": "IwvRBqtoARMM",
        "outputId": "17ab17cd-40ce-4216-fda7-481024891c13",
        "colab": {
          "base_uri": "https://localhost:8080/",
          "height": 428
        }
      },
      "source": [
        "model = Sequential()\n",
        "model.add(Conv2D(32, kernel_size=(3, 3), activation='relu', input_shape=(28, 28, 1)))\n",
        "model.add(MaxPooling2D(pool_size=(2, 2)))\n",
        "model.add(Conv2D(64, (3, 3), activation='relu'))\n",
        "model.add(MaxPooling2D(pool_size=(2, 2)))\n",
        "model.add(Dropout(0.25))\n",
        "model.add(Flatten())\n",
        "model.add(Dense(128, activation='relu'))\n",
        "model.add(Dense(10, activation='softmax'))\n",
        "\n",
        "model.compile(loss='categorical_crossentropy', optimizer='adam', metrics=['accuracy'])\n",
        "\n",
        "victim = KerasClassifier(model=model, clip_values=(min_pixel_value, max_pixel_value), use_logits=False)\n",
        "\n",
        "victim.fit(x_train, y_train, batch_size=128, nb_epochs=10)"
      ],
      "execution_count": 9,
      "outputs": [
        {
          "output_type": "stream",
          "text": [
            "WARNING:tensorflow:From /usr/local/lib/python3.6/dist-packages/art/estimators/classification/keras.py:494: Model.fit_generator (from tensorflow.python.keras.engine.training_v1) is deprecated and will be removed in a future version.\n",
            "Instructions for updating:\n",
            "Please use Model.fit, which supports generators.\n",
            "Epoch 1/10\n",
            "468/468 [==============================] - 3s 5ms/step - batch: 233.5000 - size: 128.0000 - loss: 0.2160 - accuracy: 0.9340\n",
            "Epoch 2/10\n",
            "468/468 [==============================] - 3s 6ms/step - batch: 233.5000 - size: 128.0000 - loss: 0.0584 - accuracy: 0.9826\n",
            "Epoch 3/10\n",
            "468/468 [==============================] - 3s 6ms/step - batch: 233.5000 - size: 128.0000 - loss: 0.0429 - accuracy: 0.9866\n",
            "Epoch 4/10\n",
            "468/468 [==============================] - 2s 5ms/step - batch: 233.5000 - size: 128.0000 - loss: 0.0341 - accuracy: 0.9897\n",
            "Epoch 5/10\n",
            "468/468 [==============================] - 2s 5ms/step - batch: 233.5000 - size: 128.0000 - loss: 0.0274 - accuracy: 0.9910\n",
            "Epoch 6/10\n",
            "468/468 [==============================] - 3s 5ms/step - batch: 233.5000 - size: 128.0000 - loss: 0.0244 - accuracy: 0.9921\n",
            "Epoch 7/10\n",
            "468/468 [==============================] - 3s 5ms/step - batch: 233.5000 - size: 128.0000 - loss: 0.0213 - accuracy: 0.9926\n",
            "Epoch 8/10\n",
            "468/468 [==============================] - 3s 6ms/step - batch: 233.5000 - size: 128.0000 - loss: 0.0160 - accuracy: 0.9951\n",
            "Epoch 9/10\n",
            "468/468 [==============================] - 3s 6ms/step - batch: 233.5000 - size: 128.0000 - loss: 0.0165 - accuracy: 0.9946\n",
            "Epoch 10/10\n",
            "468/468 [==============================] - 3s 5ms/step - batch: 233.5000 - size: 128.0000 - loss: 0.0141 - accuracy: 0.9951\n"
          ],
          "name": "stdout"
        }
      ]
    },
    {
      "cell_type": "code",
      "metadata": {
        "id": "HoS7HK-8ATSa",
        "outputId": "38c844df-0b4e-433d-b651-32c403c69300",
        "colab": {
          "base_uri": "https://localhost:8080/",
          "height": 105
        }
      },
      "source": [
        "predictions_test = victim.predict(x_test)\n",
        "accuracy = np.sum(np.argmax(predictions_test, axis=1) == np.argmax(y_test, axis=1)) / len(y_test)\n",
        "print(\"Accuracy on test examples: {}%\".format(accuracy * 100))"
      ],
      "execution_count": 10,
      "outputs": [
        {
          "output_type": "stream",
          "text": [
            "WARNING:tensorflow:From /usr/local/lib/python3.6/dist-packages/tensorflow/python/keras/engine/training_v1.py:2070: Model.state_updates (from tensorflow.python.keras.engine.training) is deprecated and will be removed in a future version.\n",
            "Instructions for updating:\n",
            "This property should not be used in TensorFlow 2.0, as updates are applied automatically.\n",
            "Accuracy on test examples: 99.13%\n"
          ],
          "name": "stdout"
        }
      ]
    },
    {
      "cell_type": "markdown",
      "metadata": {
        "id": "4mFwoBCTIW3e"
      },
      "source": [
        "# Defensas"
      ]
    },
    {
      "cell_type": "code",
      "metadata": {
        "id": "zGcq5sH2zJ1_"
      },
      "source": [
        "from art.defences.postprocessor import Rounded, GaussianNoise"
      ],
      "execution_count": 11,
      "outputs": []
    },
    {
      "cell_type": "code",
      "metadata": {
        "id": "C_zMh6oB6y_E"
      },
      "source": [
        "from art.attacks.extraction import CopycatCNN, KnockoffNets"
      ],
      "execution_count": 12,
      "outputs": []
    },
    {
      "cell_type": "code",
      "metadata": {
        "id": "G9s4tJLvzLTi",
        "outputId": "e523c406-bd72-4df5-f53a-968bfdea3f53",
        "colab": {
          "base_uri": "https://localhost:8080/",
          "height": 357
        }
      },
      "source": [
        "preds = victim.predict(x_test)\n",
        "print(preds)\n",
        "postprocessor_rounded = Rounded(decimals=4)\n",
        "post_preds = postprocessor_rounded(preds=preds)\n",
        "print(post_preds)"
      ],
      "execution_count": 13,
      "outputs": [
        {
          "output_type": "stream",
          "text": [
            "[[1.09123495e-10 1.33214528e-09 3.18478435e-08 ... 9.99998689e-01\n",
            "  1.15470655e-09 7.45873905e-08]\n",
            " [7.79219622e-09 1.14264997e-08 1.00000000e+00 ... 6.24902013e-14\n",
            "  1.71393086e-08 1.36162544e-12]\n",
            " [1.31142372e-07 9.99970198e-01 3.53800047e-08 ... 1.44307678e-05\n",
            "  2.03286982e-06 1.26029356e-08]\n",
            " ...\n",
            " [1.22817276e-16 3.34324799e-12 5.60647923e-14 ... 1.11069140e-10\n",
            "  2.61510110e-07 6.29302332e-10]\n",
            " [6.26432239e-11 1.60962281e-13 6.32045956e-13 ... 1.50730708e-12\n",
            "  2.21769980e-04 3.53352653e-10]\n",
            " [1.09712051e-09 1.30463573e-09 5.36566747e-09 ... 4.61036814e-14\n",
            "  1.57388865e-06 6.97636263e-12]]\n",
            "[[0.e+00 0.e+00 0.e+00 ... 1.e+00 0.e+00 0.e+00]\n",
            " [0.e+00 0.e+00 1.e+00 ... 0.e+00 0.e+00 0.e+00]\n",
            " [0.e+00 1.e+00 0.e+00 ... 0.e+00 0.e+00 0.e+00]\n",
            " ...\n",
            " [0.e+00 0.e+00 0.e+00 ... 0.e+00 0.e+00 0.e+00]\n",
            " [0.e+00 0.e+00 0.e+00 ... 0.e+00 2.e-04 0.e+00]\n",
            " [0.e+00 0.e+00 0.e+00 ... 0.e+00 0.e+00 0.e+00]]\n"
          ],
          "name": "stdout"
        }
      ]
    },
    {
      "cell_type": "code",
      "metadata": {
        "id": "_dHYz36Q1hsB",
        "outputId": "8168edeb-6465-4be6-bd5e-4408a1676935",
        "colab": {
          "base_uri": "https://localhost:8080/",
          "height": 85
        }
      },
      "source": [
        "preds = victim.predict(x_test[0:1])\n",
        "postprocessor_gaussian = GaussianNoise(scale=0.1)\n",
        "post_preds = postprocessor_gaussian(preds=preds)\n",
        "print(preds)\n",
        "print(post_preds)"
      ],
      "execution_count": 14,
      "outputs": [
        {
          "output_type": "stream",
          "text": [
            "[[1.0912370e-10 1.3321453e-09 3.1847904e-08 1.1525575e-06 5.8135343e-13\n",
            "  1.5693431e-12 4.6329162e-15 9.9999869e-01 1.1547111e-09 7.4587675e-08]]\n",
            "[[0.05990296 0.         0.01202756 0.0203275  0.01022768 0.\n",
            "  0.         0.73901623 0.15849806 0.        ]]\n"
          ],
          "name": "stdout"
        }
      ]
    },
    {
      "cell_type": "code",
      "metadata": {
        "id": "mcpHJCaP22Qg",
        "outputId": "9b829b3d-5c94-481f-aad5-98f515e82171",
        "colab": {
          "base_uri": "https://localhost:8080/",
          "height": 357
        }
      },
      "source": [
        "victim_defense = KerasClassifier(model=model, clip_values=(min_pixel_value, max_pixel_value), use_logits=False, postprocessing_defences=postprocessor_gaussian)\n",
        "victim_defense.fit(x_train, y_train, batch_size=128, nb_epochs=10)"
      ],
      "execution_count": 15,
      "outputs": [
        {
          "output_type": "stream",
          "text": [
            "Epoch 1/10\n",
            "468/468 [==============================] - 3s 6ms/step - batch: 233.5000 - size: 128.0000 - loss: 0.0115 - accuracy: 0.9963\n",
            "Epoch 2/10\n",
            "468/468 [==============================] - 3s 5ms/step - batch: 233.5000 - size: 128.0000 - loss: 0.0120 - accuracy: 0.9960\n",
            "Epoch 3/10\n",
            "468/468 [==============================] - 3s 6ms/step - batch: 233.5000 - size: 128.0000 - loss: 0.0103 - accuracy: 0.9967\n",
            "Epoch 4/10\n",
            "468/468 [==============================] - 3s 6ms/step - batch: 233.5000 - size: 128.0000 - loss: 0.0081 - accuracy: 0.9975\n",
            "Epoch 5/10\n",
            "468/468 [==============================] - 3s 5ms/step - batch: 233.5000 - size: 128.0000 - loss: 0.0083 - accuracy: 0.9971\n",
            "Epoch 6/10\n",
            "468/468 [==============================] - 3s 6ms/step - batch: 233.5000 - size: 128.0000 - loss: 0.0097 - accuracy: 0.9967\n",
            "Epoch 7/10\n",
            "468/468 [==============================] - 3s 6ms/step - batch: 233.5000 - size: 128.0000 - loss: 0.0081 - accuracy: 0.9973\n",
            "Epoch 8/10\n",
            "468/468 [==============================] - 3s 6ms/step - batch: 233.5000 - size: 128.0000 - loss: 0.0067 - accuracy: 0.9979\n",
            "Epoch 9/10\n",
            "468/468 [==============================] - 3s 5ms/step - batch: 233.5000 - size: 128.0000 - loss: 0.0074 - accuracy: 0.9975\n",
            "Epoch 10/10\n",
            "468/468 [==============================] - 3s 5ms/step - batch: 233.5000 - size: 128.0000 - loss: 0.0076 - accuracy: 0.9977\n"
          ],
          "name": "stdout"
        }
      ]
    },
    {
      "cell_type": "code",
      "metadata": {
        "id": "SV8CIW3b1xiC"
      },
      "source": [
        "model2 = Sequential()\n",
        "model2.add(Conv2D(1, kernel_size=(7, 7), activation=\"relu\", input_shape=(28, 28, 1)))\n",
        "model2.add(MaxPooling2D(pool_size=(4, 4)))\n",
        "model2.add(Flatten())\n",
        "model2.add(Dense(10, activation=\"softmax\"))\n",
        "model2.compile(loss=\"categorical_crossentropy\", optimizer=keras.optimizers.Adam(lr=0.001), metrics=[\"accuracy\"])\n",
        "\n",
        "classifier2 = KerasClassifier(model=model2, use_logits=False, clip_values=(0, 1))"
      ],
      "execution_count": 16,
      "outputs": []
    },
    {
      "cell_type": "code",
      "metadata": {
        "id": "mduXdFcX1ycf"
      },
      "source": [
        "attack = KnockoffNets(classifier=victim)\n",
        "stolen_model = attack.extract(x=x_train, y=y_train, thieved_classifier=classifier2, nb_epochs=10, nb_stolen=10000)"
      ],
      "execution_count": 17,
      "outputs": []
    },
    {
      "cell_type": "code",
      "metadata": {
        "id": "CTQAe5Lf1524",
        "outputId": "7177d661-c56e-4e18-8d77-995a40c27e56",
        "colab": {
          "base_uri": "https://localhost:8080/",
          "height": 34
        }
      },
      "source": [
        "victim_preds = np.argmax(victim.predict(x=x_train), axis=1)\n",
        "stolen_preds = np.argmax(stolen_model.predict(x=x_train), axis=1)\n",
        "acc = np.sum(victim_preds == stolen_preds) / len(victim_preds)\n",
        "print(\"Accuracy with stolen model: {}%\".format(acc * 100))"
      ],
      "execution_count": 18,
      "outputs": [
        {
          "output_type": "stream",
          "text": [
            "Accuracy with stolen model: 8.296666666666667%\n"
          ],
          "name": "stdout"
        }
      ]
    },
    {
      "cell_type": "code",
      "metadata": {
        "id": "wk3Etj3v8uWT"
      },
      "source": [
        "attack = KnockoffNets(classifier=victim_defense)\n",
        "stolen_model = attack.extract(x=x_train, y=y_train, thieved_classifier=classifier2, nb_epochs=10, nb_stolen=10000)"
      ],
      "execution_count": 19,
      "outputs": []
    },
    {
      "cell_type": "code",
      "metadata": {
        "id": "LBFJWc4a8zCG",
        "outputId": "4130eb84-ac66-4960-ee4e-1a456c5a491d",
        "colab": {
          "base_uri": "https://localhost:8080/",
          "height": 34
        }
      },
      "source": [
        "victim_preds = np.argmax(victim.predict(x=x_train), axis=1)\n",
        "stolen_preds = np.argmax(stolen_model.predict(x=x_train), axis=1)\n",
        "acc = np.sum(victim_preds == stolen_preds) / len(victim_preds)\n",
        "print(\"Accuracy with stolen model: {}%\".format(acc * 100))"
      ],
      "execution_count": 20,
      "outputs": [
        {
          "output_type": "stream",
          "text": [
            "Accuracy with stolen model: 8.863333333333333%\n"
          ],
          "name": "stdout"
        }
      ]
    }
  ]
}