{
  "nbformat": 4,
  "nbformat_minor": 0,
  "metadata": {
    "colab": {
      "name": "Copia de Hola ART y evasión",
      "provenance": [],
      "collapsed_sections": []
    },
    "kernelspec": {
      "name": "python3",
      "display_name": "Python 3"
    },
    "accelerator": "GPU"
  },
  "cells": [
    {
      "cell_type": "markdown",
      "metadata": {
        "id": "CLrkyRc6-rD5"
      },
      "source": [
        "# ¡Hola, ART!"
      ]
    },
    {
      "cell_type": "markdown",
      "metadata": {
        "id": "NuoZ5bhE-2_0"
      },
      "source": [
        "## Instalación"
      ]
    },
    {
      "cell_type": "code",
      "metadata": {
        "id": "Zua3aciV-O5K",
        "colab": {
          "base_uri": "https://localhost:8080/"
        },
        "outputId": "8538493c-6a60-420a-a96e-cd5eaf609337"
      },
      "source": [
        "!pip install adversarial-robustness-toolbox==1.4.1"
      ],
      "execution_count": 1,
      "outputs": [
        {
          "output_type": "stream",
          "text": [
            "Collecting adversarial-robustness-toolbox==1.4.1\n",
            "\u001b[?25l  Downloading https://files.pythonhosted.org/packages/fe/8d/e7b34237bb7622c465ed8a3afae301f1689f795bc49e41b8fcd3ae849511/adversarial_robustness_toolbox-1.4.1-py3-none-any.whl (761kB)\n",
            "\r\u001b[K     |▍                               | 10kB 18.3MB/s eta 0:00:01\r\u001b[K     |▉                               | 20kB 19.4MB/s eta 0:00:01\r\u001b[K     |█▎                              | 30kB 15.0MB/s eta 0:00:01\r\u001b[K     |█▊                              | 40kB 13.5MB/s eta 0:00:01\r\u001b[K     |██▏                             | 51kB 9.1MB/s eta 0:00:01\r\u001b[K     |██▋                             | 61kB 9.8MB/s eta 0:00:01\r\u001b[K     |███                             | 71kB 9.8MB/s eta 0:00:01\r\u001b[K     |███▍                            | 81kB 10.0MB/s eta 0:00:01\r\u001b[K     |███▉                            | 92kB 9.9MB/s eta 0:00:01\r\u001b[K     |████▎                           | 102kB 8.7MB/s eta 0:00:01\r\u001b[K     |████▊                           | 112kB 8.7MB/s eta 0:00:01\r\u001b[K     |█████▏                          | 122kB 8.7MB/s eta 0:00:01\r\u001b[K     |█████▋                          | 133kB 8.7MB/s eta 0:00:01\r\u001b[K     |██████                          | 143kB 8.7MB/s eta 0:00:01\r\u001b[K     |██████▌                         | 153kB 8.7MB/s eta 0:00:01\r\u001b[K     |██████▉                         | 163kB 8.7MB/s eta 0:00:01\r\u001b[K     |███████▎                        | 174kB 8.7MB/s eta 0:00:01\r\u001b[K     |███████▊                        | 184kB 8.7MB/s eta 0:00:01\r\u001b[K     |████████▏                       | 194kB 8.7MB/s eta 0:00:01\r\u001b[K     |████████▋                       | 204kB 8.7MB/s eta 0:00:01\r\u001b[K     |█████████                       | 215kB 8.7MB/s eta 0:00:01\r\u001b[K     |█████████▌                      | 225kB 8.7MB/s eta 0:00:01\r\u001b[K     |██████████                      | 235kB 8.7MB/s eta 0:00:01\r\u001b[K     |██████████▎                     | 245kB 8.7MB/s eta 0:00:01\r\u001b[K     |██████████▊                     | 256kB 8.7MB/s eta 0:00:01\r\u001b[K     |███████████▏                    | 266kB 8.7MB/s eta 0:00:01\r\u001b[K     |███████████▋                    | 276kB 8.7MB/s eta 0:00:01\r\u001b[K     |████████████                    | 286kB 8.7MB/s eta 0:00:01\r\u001b[K     |████████████▌                   | 296kB 8.7MB/s eta 0:00:01\r\u001b[K     |█████████████                   | 307kB 8.7MB/s eta 0:00:01\r\u001b[K     |█████████████▍                  | 317kB 8.7MB/s eta 0:00:01\r\u001b[K     |█████████████▊                  | 327kB 8.7MB/s eta 0:00:01\r\u001b[K     |██████████████▏                 | 337kB 8.7MB/s eta 0:00:01\r\u001b[K     |██████████████▋                 | 348kB 8.7MB/s eta 0:00:01\r\u001b[K     |███████████████                 | 358kB 8.7MB/s eta 0:00:01\r\u001b[K     |███████████████▌                | 368kB 8.7MB/s eta 0:00:01\r\u001b[K     |████████████████                | 378kB 8.7MB/s eta 0:00:01\r\u001b[K     |████████████████▍               | 389kB 8.7MB/s eta 0:00:01\r\u001b[K     |████████████████▊               | 399kB 8.7MB/s eta 0:00:01\r\u001b[K     |█████████████████▏              | 409kB 8.7MB/s eta 0:00:01\r\u001b[K     |█████████████████▋              | 419kB 8.7MB/s eta 0:00:01\r\u001b[K     |██████████████████              | 430kB 8.7MB/s eta 0:00:01\r\u001b[K     |██████████████████▌             | 440kB 8.7MB/s eta 0:00:01\r\u001b[K     |███████████████████             | 450kB 8.7MB/s eta 0:00:01\r\u001b[K     |███████████████████▍            | 460kB 8.7MB/s eta 0:00:01\r\u001b[K     |███████████████████▉            | 471kB 8.7MB/s eta 0:00:01\r\u001b[K     |████████████████████▏           | 481kB 8.7MB/s eta 0:00:01\r\u001b[K     |████████████████████▋           | 491kB 8.7MB/s eta 0:00:01\r\u001b[K     |█████████████████████           | 501kB 8.7MB/s eta 0:00:01\r\u001b[K     |█████████████████████▌          | 512kB 8.7MB/s eta 0:00:01\r\u001b[K     |██████████████████████          | 522kB 8.7MB/s eta 0:00:01\r\u001b[K     |██████████████████████▍         | 532kB 8.7MB/s eta 0:00:01\r\u001b[K     |██████████████████████▉         | 542kB 8.7MB/s eta 0:00:01\r\u001b[K     |███████████████████████▎        | 552kB 8.7MB/s eta 0:00:01\r\u001b[K     |███████████████████████▋        | 563kB 8.7MB/s eta 0:00:01\r\u001b[K     |████████████████████████        | 573kB 8.7MB/s eta 0:00:01\r\u001b[K     |████████████████████████▌       | 583kB 8.7MB/s eta 0:00:01\r\u001b[K     |█████████████████████████       | 593kB 8.7MB/s eta 0:00:01\r\u001b[K     |█████████████████████████▍      | 604kB 8.7MB/s eta 0:00:01\r\u001b[K     |█████████████████████████▉      | 614kB 8.7MB/s eta 0:00:01\r\u001b[K     |██████████████████████████▎     | 624kB 8.7MB/s eta 0:00:01\r\u001b[K     |██████████████████████████▊     | 634kB 8.7MB/s eta 0:00:01\r\u001b[K     |███████████████████████████     | 645kB 8.7MB/s eta 0:00:01\r\u001b[K     |███████████████████████████▌    | 655kB 8.7MB/s eta 0:00:01\r\u001b[K     |████████████████████████████    | 665kB 8.7MB/s eta 0:00:01\r\u001b[K     |████████████████████████████▍   | 675kB 8.7MB/s eta 0:00:01\r\u001b[K     |████████████████████████████▉   | 686kB 8.7MB/s eta 0:00:01\r\u001b[K     |█████████████████████████████▎  | 696kB 8.7MB/s eta 0:00:01\r\u001b[K     |█████████████████████████████▊  | 706kB 8.7MB/s eta 0:00:01\r\u001b[K     |██████████████████████████████  | 716kB 8.7MB/s eta 0:00:01\r\u001b[K     |██████████████████████████████▌ | 727kB 8.7MB/s eta 0:00:01\r\u001b[K     |███████████████████████████████ | 737kB 8.7MB/s eta 0:00:01\r\u001b[K     |███████████████████████████████▍| 747kB 8.7MB/s eta 0:00:01\r\u001b[K     |███████████████████████████████▉| 757kB 8.7MB/s eta 0:00:01\r\u001b[K     |████████████████████████████████| 768kB 8.7MB/s \n",
            "\u001b[?25hRequirement already satisfied: matplotlib in /usr/local/lib/python3.6/dist-packages (from adversarial-robustness-toolbox==1.4.1) (3.2.2)\n",
            "Collecting mypy\n",
            "\u001b[?25l  Downloading https://files.pythonhosted.org/packages/11/53/8f73bf4726e42d049ef4855c5f047c9b12c4ac372ecfe38c761d4986296b/mypy-0.800-cp36-cp36m-manylinux2010_x86_64.whl (21.6MB)\n",
            "\u001b[K     |████████████████████████████████| 21.6MB 1.4MB/s \n",
            "\u001b[?25hRequirement already satisfied: tqdm in /usr/local/lib/python3.6/dist-packages (from adversarial-robustness-toolbox==1.4.1) (4.41.1)\n",
            "Requirement already satisfied: six in /usr/local/lib/python3.6/dist-packages (from adversarial-robustness-toolbox==1.4.1) (1.15.0)\n",
            "Requirement already satisfied: scipy==1.4.1 in /usr/local/lib/python3.6/dist-packages (from adversarial-robustness-toolbox==1.4.1) (1.4.1)\n",
            "Requirement already satisfied: numpy in /usr/local/lib/python3.6/dist-packages (from adversarial-robustness-toolbox==1.4.1) (1.19.5)\n",
            "Collecting ffmpeg-python\n",
            "  Downloading https://files.pythonhosted.org/packages/d7/0c/56be52741f75bad4dc6555991fabd2e07b432d333da82c11ad701123888a/ffmpeg_python-0.2.0-py3-none-any.whl\n",
            "Collecting cma\n",
            "\u001b[?25l  Downloading https://files.pythonhosted.org/packages/36/c0/0a1c41f7cad0a51e07991cf86423d0e6651d035f1fe7dcff48e8858848f2/cma-3.0.3-py2.py3-none-any.whl (230kB)\n",
            "\u001b[K     |████████████████████████████████| 235kB 55.0MB/s \n",
            "\u001b[?25hCollecting pydub\n",
            "  Downloading https://files.pythonhosted.org/packages/7b/d1/fbfa79371a8cd9bb15c2e3c480d7e6e340ed5cc55005174e16f48418333a/pydub-0.24.1-py2.py3-none-any.whl\n",
            "Requirement already satisfied: statsmodels in /usr/local/lib/python3.6/dist-packages (from adversarial-robustness-toolbox==1.4.1) (0.10.2)\n",
            "Collecting scikit-learn==0.22.2\n",
            "\u001b[?25l  Downloading https://files.pythonhosted.org/packages/e1/7f/366dcba1ba076a88a50bea732dbc033c0c5bbf7876010e6edc67948579d5/scikit_learn-0.22.2-cp36-cp36m-manylinux1_x86_64.whl (7.1MB)\n",
            "\u001b[K     |████████████████████████████████| 7.1MB 53.4MB/s \n",
            "\u001b[?25hRequirement already satisfied: resampy in /usr/local/lib/python3.6/dist-packages (from adversarial-robustness-toolbox==1.4.1) (0.2.2)\n",
            "Requirement already satisfied: setuptools in /usr/local/lib/python3.6/dist-packages (from adversarial-robustness-toolbox==1.4.1) (53.0.0)\n",
            "Requirement already satisfied: Pillow in /usr/local/lib/python3.6/dist-packages (from adversarial-robustness-toolbox==1.4.1) (7.0.0)\n",
            "Requirement already satisfied: pyparsing!=2.0.4,!=2.1.2,!=2.1.6,>=2.0.1 in /usr/local/lib/python3.6/dist-packages (from matplotlib->adversarial-robustness-toolbox==1.4.1) (2.4.7)\n",
            "Requirement already satisfied: cycler>=0.10 in /usr/local/lib/python3.6/dist-packages (from matplotlib->adversarial-robustness-toolbox==1.4.1) (0.10.0)\n",
            "Requirement already satisfied: kiwisolver>=1.0.1 in /usr/local/lib/python3.6/dist-packages (from matplotlib->adversarial-robustness-toolbox==1.4.1) (1.3.1)\n",
            "Requirement already satisfied: python-dateutil>=2.1 in /usr/local/lib/python3.6/dist-packages (from matplotlib->adversarial-robustness-toolbox==1.4.1) (2.8.1)\n",
            "Collecting typed-ast<1.5.0,>=1.4.0\n",
            "\u001b[?25l  Downloading https://files.pythonhosted.org/packages/56/c1/4cc3c0da2374963f59b2f57ef02e048cdc4f609cbc1184b4146d0812e5b5/typed_ast-1.4.2-cp36-cp36m-manylinux1_x86_64.whl (743kB)\n",
            "\u001b[K     |████████████████████████████████| 747kB 49.7MB/s \n",
            "\u001b[?25hCollecting mypy-extensions<0.5.0,>=0.4.3\n",
            "  Downloading https://files.pythonhosted.org/packages/5c/eb/975c7c080f3223a5cdaff09612f3a5221e4ba534f7039db34c35d95fa6a5/mypy_extensions-0.4.3-py2.py3-none-any.whl\n",
            "Requirement already satisfied: typing-extensions>=3.7.4 in /usr/local/lib/python3.6/dist-packages (from mypy->adversarial-robustness-toolbox==1.4.1) (3.7.4.3)\n",
            "Requirement already satisfied: future in /usr/local/lib/python3.6/dist-packages (from ffmpeg-python->adversarial-robustness-toolbox==1.4.1) (0.16.0)\n",
            "Requirement already satisfied: patsy>=0.4.0 in /usr/local/lib/python3.6/dist-packages (from statsmodels->adversarial-robustness-toolbox==1.4.1) (0.5.1)\n",
            "Requirement already satisfied: pandas>=0.19 in /usr/local/lib/python3.6/dist-packages (from statsmodels->adversarial-robustness-toolbox==1.4.1) (1.1.5)\n",
            "Requirement already satisfied: joblib>=0.11 in /usr/local/lib/python3.6/dist-packages (from scikit-learn==0.22.2->adversarial-robustness-toolbox==1.4.1) (1.0.0)\n",
            "Requirement already satisfied: numba>=0.32 in /usr/local/lib/python3.6/dist-packages (from resampy->adversarial-robustness-toolbox==1.4.1) (0.51.2)\n",
            "Requirement already satisfied: pytz>=2017.2 in /usr/local/lib/python3.6/dist-packages (from pandas>=0.19->statsmodels->adversarial-robustness-toolbox==1.4.1) (2018.9)\n",
            "Requirement already satisfied: llvmlite<0.35,>=0.34.0.dev0 in /usr/local/lib/python3.6/dist-packages (from numba>=0.32->resampy->adversarial-robustness-toolbox==1.4.1) (0.34.0)\n",
            "Installing collected packages: typed-ast, mypy-extensions, mypy, ffmpeg-python, cma, pydub, scikit-learn, adversarial-robustness-toolbox\n",
            "  Found existing installation: scikit-learn 0.22.2.post1\n",
            "    Uninstalling scikit-learn-0.22.2.post1:\n",
            "      Successfully uninstalled scikit-learn-0.22.2.post1\n",
            "Successfully installed adversarial-robustness-toolbox-1.4.1 cma-3.0.3 ffmpeg-python-0.2.0 mypy-0.800 mypy-extensions-0.4.3 pydub-0.24.1 scikit-learn-0.22.2 typed-ast-1.4.2\n"
          ],
          "name": "stdout"
        }
      ]
    },
    {
      "cell_type": "code",
      "metadata": {
        "id": "1M8cmX6Y_MaU"
      },
      "source": [
        "import keras\n",
        "from keras.models import Sequential\n",
        "from keras.layers import Dense, Flatten, Conv2D, MaxPooling2D\n",
        "import numpy as np\n",
        "import matplotlib.pyplot as plt\n",
        "from art.utils import load_mnist"
      ],
      "execution_count": 2,
      "outputs": []
    },
    {
      "cell_type": "code",
      "metadata": {
        "id": "3JSlG18GC1RT"
      },
      "source": [
        "import tensorflow as tf\n",
        "tf.compat.v1.disable_eager_execution()\n",
        "\n",
        "import warnings\n",
        "warnings.filterwarnings('ignore')"
      ],
      "execution_count": 3,
      "outputs": []
    },
    {
      "cell_type": "code",
      "metadata": {
        "id": "6k-Q4bnG_SWG"
      },
      "source": [
        "%matplotlib inline"
      ],
      "execution_count": 4,
      "outputs": []
    },
    {
      "cell_type": "markdown",
      "metadata": {
        "id": "rYWQUSRC_WLT"
      },
      "source": [
        "## Cargar datos"
      ]
    },
    {
      "cell_type": "code",
      "metadata": {
        "id": "hq1wjOgu_a1U"
      },
      "source": [
        "(x_train, y_train), (x_test, y_test), min_pixel_value, max_pixel_value = load_mnist()"
      ],
      "execution_count": 5,
      "outputs": []
    },
    {
      "cell_type": "code",
      "metadata": {
        "id": "YCASWXza_dK1",
        "colab": {
          "base_uri": "https://localhost:8080/"
        },
        "outputId": "cba62e26-58c3-424e-fa96-f749fdcbe052"
      },
      "source": [
        "print(\"x_train shape:\", x_train.shape)\n",
        "print(\"y_train shape:\", x_train.shape)\n",
        "print(\"x_test shape:\", x_train.shape)\n",
        "print(\"y_test shape:\", x_train.shape)\n",
        "\n",
        "print(\"min_pixel_value:\", min_pixel_value)\n",
        "print(\"min_pixel_value:\", max_pixel_value)"
      ],
      "execution_count": 6,
      "outputs": [
        {
          "output_type": "stream",
          "text": [
            "x_train shape: (60000, 28, 28, 1)\n",
            "y_train shape: (60000, 28, 28, 1)\n",
            "x_test shape: (60000, 28, 28, 1)\n",
            "y_test shape: (60000, 28, 28, 1)\n",
            "min_pixel_value: 0.0\n",
            "min_pixel_value: 1.0\n"
          ],
          "name": "stdout"
        }
      ]
    },
    {
      "cell_type": "code",
      "metadata": {
        "id": "x7I2LY9T_k22",
        "colab": {
          "base_uri": "https://localhost:8080/",
          "height": 282
        },
        "outputId": "2fc27f18-93c9-488e-e1ed-95b7ab32cec1"
      },
      "source": [
        "sample = 50897\n",
        "plt.imshow(x_train[sample].reshape((28, 28)), cmap='gray', interpolation='none')"
      ],
      "execution_count": 7,
      "outputs": [
        {
          "output_type": "execute_result",
          "data": {
            "text/plain": [
              "<matplotlib.image.AxesImage at 0x7f978fb92c88>"
            ]
          },
          "metadata": {
            "tags": []
          },
          "execution_count": 7
        },
        {
          "output_type": "display_data",
          "data": {
            "image/png": "[encoded data removed]",
            "text/plain": [
              "<Figure size 432x288 with 1 Axes>"
            ]
          },
          "metadata": {
            "tags": [],
            "needs_background": "light"
          }
        }
      ]
    },
    {
      "cell_type": "markdown",
      "metadata": {
        "id": "gGp89T6o_s3M"
      },
      "source": [
        "## Entrenar modelo"
      ]
    },
    {
      "cell_type": "code",
      "metadata": {
        "id": "gTOks8pDAObr"
      },
      "source": [
        "from art.estimators.classification import KerasClassifier"
      ],
      "execution_count": 8,
      "outputs": []
    },
    {
      "cell_type": "code",
      "metadata": {
        "id": "IwvRBqtoARMM",
        "colab": {
          "base_uri": "https://localhost:8080/"
        },
        "outputId": "b2b1d894-2290-4446-a803-be8a2b389b60"
      },
      "source": [
        "model = Sequential()\n",
        "model.add(Conv2D(filters=4, kernel_size=(5, 5), strides=1, activation=\"relu\", input_shape=(28, 28, 1)))\n",
        "model.add(MaxPooling2D(pool_size=(2, 2)))\n",
        "model.add(Conv2D(filters=10, kernel_size=(5, 5), strides=1, activation=\"relu\", input_shape=(23, 23, 4)))\n",
        "model.add(MaxPooling2D(pool_size=(2, 2)))\n",
        "model.add(Flatten())\n",
        "model.add(Dense(100, activation=\"relu\"))\n",
        "model.add(Dense(10, activation=\"softmax\"))\n",
        "\n",
        "model.compile(loss=keras.losses.categorical_crossentropy, optimizer=keras.optimizers.Adam(lr=0.01), metrics=[\"accuracy\"])\n",
        "classifier = KerasClassifier(model=model, clip_values=(min_pixel_value, max_pixel_value), use_logits=False)\n",
        "\n",
        "classifier.fit(x_train, y_train, batch_size=64, nb_epochs=3)"
      ],
      "execution_count": 9,
      "outputs": [
        {
          "output_type": "stream",
          "text": [
            "Epoch 1/3\n",
            "937/937 [==============================] - 9s 3ms/step - batch: 468.0000 - size: 64.0000 - loss: 0.1418 - accuracy: 0.9552\n",
            "Epoch 2/3\n",
            "937/937 [==============================] - 3s 3ms/step - batch: 468.0000 - size: 64.0000 - loss: 0.0752 - accuracy: 0.9769\n",
            "Epoch 3/3\n",
            "937/937 [==============================] - 3s 3ms/step - batch: 468.0000 - size: 64.0000 - loss: 0.0684 - accuracy: 0.9800\n"
          ],
          "name": "stdout"
        }
      ]
    },
    {
      "cell_type": "code",
      "metadata": {
        "id": "HoS7HK-8ATSa",
        "colab": {
          "base_uri": "https://localhost:8080/"
        },
        "outputId": "356b91cb-b78a-4ad9-e9eb-ce7c3378974b"
      },
      "source": [
        "predictions_test = classifier.predict(x_test)\n",
        "accuracy = np.sum(np.argmax(predictions_test, axis=1) == np.argmax(y_test, axis=1)) / len(y_test)\n",
        "print(\"Accuracy on test examples: {}%\".format(accuracy * 100))"
      ],
      "execution_count": 10,
      "outputs": [
        {
          "output_type": "stream",
          "text": [
            "Accuracy on test examples: 97.54%\n"
          ],
          "name": "stdout"
        }
      ]
    },
    {
      "cell_type": "markdown",
      "metadata": {
        "id": "8RjSGz4MAa5n"
      },
      "source": [
        "## Generar ejemplos adversarios"
      ]
    },
    {
      "cell_type": "code",
      "metadata": {
        "id": "LzFU47WnAd9T"
      },
      "source": [
        "from art.attacks.evasion import FastGradientMethod, SaliencyMapMethod, CarliniL2Method"
      ],
      "execution_count": 11,
      "outputs": []
    },
    {
      "cell_type": "code",
      "metadata": {
        "id": "QH6qevlrAkGh"
      },
      "source": [
        "attack_fgm = FastGradientMethod(estimator = classifier, eps = 0.2)\n",
        "x_test_fgm = attack_fgm.generate(x=x_test)"
      ],
      "execution_count": 12,
      "outputs": []
    },
    {
      "cell_type": "code",
      "metadata": {
        "id": "awFmtipPFFla",
        "colab": {
          "base_uri": "https://localhost:8080/"
        },
        "outputId": "b7954801-5d14-480f-d83e-eb7b2f2b1b9e"
      },
      "source": [
        "predictions_test = classifier.predict(x_test_fgm)\n",
        "accuracy = np.sum(np.argmax(predictions_test, axis=1) == np.argmax(y_test, axis=1)) / len(y_test)\n",
        "print(\"Accuracy on test adversarial examples: {}%\".format(accuracy * 100))"
      ],
      "execution_count": 13,
      "outputs": [
        {
          "output_type": "stream",
          "text": [
            "Accuracy on test adversarial examples: 29.770000000000003%\n"
          ],
          "name": "stdout"
        }
      ]
    },
    {
      "cell_type": "code",
      "metadata": {
        "id": "MYodnOk9iXx8"
      },
      "source": [
        "# EJERCICIO\n",
        "\n",
        "# Encuentra el parámetro de Attack step size (EPS) que mejore el ataque.\n",
        "\n",
        "# Doc: https://adversarial-robustness-toolbox.readthedocs.io/en/latest/modules/attacks/evasion.html#fast-gradient-method-fgm"
      ],
      "execution_count": null,
      "outputs": []
    },
    {
      "cell_type": "code",
      "metadata": {
        "id": "5aCMNjQpiY4Y"
      },
      "source": [
        "#Descomentar durante el taller\n",
        "#x_test = x_test[:100]\n",
        "#y_test = y_test[:100]"
      ],
      "execution_count": 16,
      "outputs": []
    },
    {
      "cell_type": "code",
      "metadata": {
        "id": "9w5pLUQrAo4e",
        "colab": {
          "base_uri": "https://localhost:8080/"
        },
        "outputId": "b98cb4b1-d43a-454f-94bb-ca0393dcfbdb"
      },
      "source": [
        "attack_jsma = SaliencyMapMethod(classifier = classifier, theta = 0.1)\n",
        "x_test_jsma = attack_jsma.generate(x=x_test)"
      ],
      "execution_count": 15,
      "outputs": [
        {
          "output_type": "stream",
          "text": [
            "JSMA: 100%|██████████| 100/100 [00:26<00:00,  3.81it/s]\n"
          ],
          "name": "stderr"
        }
      ]
    },
    {
      "cell_type": "code",
      "metadata": {
        "id": "pfVpCiIoApVH",
        "colab": {
          "base_uri": "https://localhost:8080/"
        },
        "outputId": "ec4937d8-2e23-41f3-899b-af7f351509fe"
      },
      "source": [
        "attack_cw2 = CarliniL2Method(classifier = classifier)\n",
        "x_test_cw2 = attack_cw2.generate(x=x_test)"
      ],
      "execution_count": 17,
      "outputs": [
        {
          "output_type": "stream",
          "text": [
            "C&W L_2: 100%|██████████| 100/100 [01:44<00:00,  1.05s/it]\n"
          ],
          "name": "stderr"
        }
      ]
    },
    {
      "cell_type": "code",
      "metadata": {
        "id": "NwA_9MqkAvyt",
        "colab": {
          "base_uri": "https://localhost:8080/"
        },
        "outputId": "5c72163f-959d-4642-bdfa-54b1ccedfe15"
      },
      "source": [
        "attacks = [\"fgm\", \"jsma\", \"c&w l2\"]\n",
        "x_tests_attacks = [x_test_fgm, x_test_jsma, x_test_cw2]\n",
        "predictions = []\n",
        "\n",
        "for i, x in enumerate(x_tests_attacks):\n",
        "  preds = classifier.predict(x)\n",
        "  predictions.append(preds)\n",
        "  accuracy = np.sum(np.argmax(preds, axis=1) == np.argmax(y_test, axis=1)) / len(y_test)\n",
        "  print(\"Accuracy on adversarial test examples for {} attack: {}%\".format(attacks[i], accuracy * 100))"
      ],
      "execution_count": 18,
      "outputs": [
        {
          "output_type": "stream",
          "text": [
            "Accuracy on adversarial test examples for fgm attack: 0.0%\n",
            "Accuracy on adversarial test examples for jsma attack: 3.0%\n",
            "Accuracy on adversarial test examples for c&w l2 attack: 92.0%\n"
          ],
          "name": "stdout"
        }
      ]
    },
    {
      "cell_type": "code",
      "metadata": {
        "id": "sWpTJqgTAwtS",
        "colab": {
          "base_uri": "https://localhost:8080/",
          "height": 289
        },
        "outputId": "fd9a6195-9c53-40fb-9975-44c10bd12e87"
      },
      "source": [
        "sample = 12\n",
        "fig = plt.figure(figsize=(20,10))\n",
        "ax = fig.add_subplot(1, 4, 1)\n",
        "ax.imshow(x_test[sample].reshape((28, 28)), cmap='gray', interpolation='none')\n",
        "ax.set_title(\"Original: {}\".format(np.argmax(y_test[sample])))\n",
        "ax.axis('off')\n",
        "ax = fig.add_subplot(1, 4, 2)\n",
        "ax.imshow(x_test_fgm[sample].reshape((28, 28)), cmap='gray', interpolation='none')\n",
        "ax.set_title(\"Adversarial (FGSM): {}\".format(np.argmax(predictions[0][sample])))\n",
        "ax.axis('off')\n",
        "ax = fig.add_subplot(1, 4, 3)\n",
        "ax.imshow(x_test_jsma[sample].reshape((28, 28)), cmap='gray', interpolation='none')\n",
        "ax.set_title(\"Adversarial (JSMA): {}\".format(np.argmax(predictions[1][sample])))\n",
        "ax.axis('off')\n",
        "ax = fig.add_subplot(1, 4, 4)\n",
        "ax.imshow(x_test_cw2[sample].reshape((28, 28)), cmap='gray', interpolation='none')\n",
        "ax.set_title(\"Adversarial (C&W L2): {}\".format(np.argmax(predictions[2][sample])))\n",
        "ax.axis('off')\n",
        "fig.show()"
      ],
      "execution_count": 20,
      "outputs": [
        {
          "output_type": "display_data",
          "data": {
            "image/png": "[encoded data removed]",
            "text/plain": [
              "<Figure size 1440x720 with 4 Axes>"
            ]
          },
          "metadata": {
            "tags": [],
            "needs_background": "light"
          }
        }
      ]
    },
    {
      "cell_type": "code",
      "metadata": {
        "id": "d9ddpsHCkNap"
      },
      "source": [
        "# EJERCICIO \n",
        "\n",
        "# Cambiar la muestra elegida para ver el comportamiento en diversos ejemplos y realizar un pantallazo con alguno de los resultados."
      ],
      "execution_count": null,
      "outputs": []
    },
    {
      "cell_type": "markdown",
      "metadata": {
        "id": "bXZyqv27Ag9N"
      },
      "source": [
        "# Entrenamiento adversario"
      ]
    },
    {
      "cell_type": "code",
      "metadata": {
        "id": "hZtOAlI5BGX2"
      },
      "source": [
        "x_train_fgm = attack_fgm.generate(x=x_train)"
      ],
      "execution_count": null,
      "outputs": []
    },
    {
      "cell_type": "code",
      "metadata": {
        "id": "BggbW6KoBJNk"
      },
      "source": [
        "x_train = np.append(x_train, x_train_fgm, axis=0)\n",
        "y_train = np.append(y_train, y_train, axis=0)"
      ],
      "execution_count": null,
      "outputs": []
    },
    {
      "cell_type": "code",
      "metadata": {
        "id": "IOdjNpvJBLIz",
        "colab": {
          "base_uri": "https://localhost:8080/",
          "height": 119
        },
        "outputId": "1b119d4b-e0c6-4539-b3b7-6ca48b6e90b6"
      },
      "source": [
        "model.compile(loss=keras.losses.categorical_crossentropy, optimizer=keras.optimizers.Adam(lr=0.01), metrics=[\"accuracy\"])\n",
        "\n",
        "classifier.fit(x_train, y_train, batch_size=64, nb_epochs=3)"
      ],
      "execution_count": null,
      "outputs": [
        {
          "output_type": "stream",
          "text": [
            "Epoch 1/3\n",
            "1875/1875 [==============================] - 6s 3ms/step - batch: 937.0000 - size: 64.0000 - loss: 0.1478 - accuracy: 0.9551\n",
            "Epoch 2/3\n",
            "1875/1875 [==============================] - 6s 3ms/step - batch: 937.0000 - size: 64.0000 - loss: 0.0988 - accuracy: 0.9702\n",
            "Epoch 3/3\n",
            "1875/1875 [==============================] - 6s 3ms/step - batch: 937.0000 - size: 64.0000 - loss: 0.0908 - accuracy: 0.9731\n"
          ],
          "name": "stdout"
        }
      ]
    },
    {
      "cell_type": "code",
      "metadata": {
        "id": "2WLDCQoIBRiT",
        "colab": {
          "base_uri": "https://localhost:8080/",
          "height": 51
        },
        "outputId": "64e1dbf7-61fe-4c54-9107-ccac926c6754"
      },
      "source": [
        "predictions_test = classifier.predict(x_test)\n",
        "accuracy = np.sum(np.argmax(predictions_test, axis=1) == np.argmax(y_test, axis=1)) / len(y_test)\n",
        "print(\"Accuracy on test examples: {}%\".format(accuracy * 100))\n",
        "\n",
        "predictions_fsm = classifier.predict(x_test_fgm)\n",
        "accuracy = np.sum(np.argmax(predictions_fsm, axis=1) == np.argmax(y_test, axis=1)) / len(y_test)\n",
        "print(\"Accuracy on adversarial test examples for JSM attack: {}%\".format(accuracy * 100))"
      ],
      "execution_count": null,
      "outputs": [
        {
          "output_type": "stream",
          "text": [
            "Accuracy on test examples: 96.84%\n",
            "Accuracy on adversarial test examples for JSM attack: 93.22%\n"
          ],
          "name": "stdout"
        }
      ]
    },
    {
      "cell_type": "markdown",
      "metadata": {
        "id": "FaoK60dJcHcy"
      },
      "source": [
        "## Entrenamiento adversario de forma nativa"
      ]
    },
    {
      "cell_type": "code",
      "metadata": {
        "id": "brtrAWaCUSmz"
      },
      "source": [
        "from art.defences.trainer import AdversarialTrainer"
      ],
      "execution_count": null,
      "outputs": []
    },
    {
      "cell_type": "code",
      "metadata": {
        "id": "AE_5ZSKLUuCu"
      },
      "source": [
        "model.compile(loss=keras.losses.categorical_crossentropy, optimizer=keras.optimizers.Adam(lr=0.01), metrics=[\"accuracy\"])"
      ],
      "execution_count": null,
      "outputs": []
    },
    {
      "cell_type": "code",
      "metadata": {
        "id": "7zL6s6qfUZ4Y"
      },
      "source": [
        "defence = AdversarialTrainer(classifier=classifier, attacks=attack_fgm, ratio=0.5)"
      ],
      "execution_count": null,
      "outputs": []
    },
    {
      "cell_type": "code",
      "metadata": {
        "id": "TXRJQTipVFuu"
      },
      "source": [
        "(x_train, y_train), (x_test, y_test), min_pixel_value, max_pixel_value = load_mnist()"
      ],
      "execution_count": null,
      "outputs": []
    },
    {
      "cell_type": "code",
      "metadata": {
        "id": "ww6WB1BjU59K",
        "colab": {
          "base_uri": "https://localhost:8080/",
          "height": 51
        },
        "outputId": "e9b57e9b-a934-4d00-99be-84e3e312503c"
      },
      "source": [
        "defence.fit(x=x_train, y=y_train, nb_epochs=3)"
      ],
      "execution_count": null,
      "outputs": [
        {
          "output_type": "stream",
          "text": [
            "Precompute adv samples: 100%|██████████| 1/1 [00:00<00:00, 964.65it/s]\n",
            "Adversarial training epochs: 100%|██████████| 3/3 [00:26<00:00,  8.72s/it]\n"
          ],
          "name": "stderr"
        }
      ]
    },
    {
      "cell_type": "code",
      "metadata": {
        "id": "60HDLfwbVOiV",
        "colab": {
          "base_uri": "https://localhost:8080/",
          "height": 51
        },
        "outputId": "8ba262b4-456e-4ee3-d324-5149ce877dc8"
      },
      "source": [
        "predictions_test = classifier.predict(x_test)\n",
        "accuracy = np.sum(np.argmax(predictions_test, axis=1) == np.argmax(y_test, axis=1)) / len(y_test)\n",
        "print(\"Accuracy on test examples: {}%\".format(accuracy * 100))\n",
        "\n",
        "predictions_fsm = defence.predict(x_test_fgm)\n",
        "accuracy = np.sum(np.argmax(predictions_fsm, axis=1) == np.argmax(y_test, axis=1)) / len(y_test)\n",
        "print(\"Accuracy on adversarial test examples for JSM attack: {}%\".format(accuracy * 100))"
      ],
      "execution_count": null,
      "outputs": [
        {
          "output_type": "stream",
          "text": [
            "Accuracy on test examples: 97.33000000000001%\n",
            "Accuracy on adversarial test examples for JSM attack: 93.13%\n"
          ],
          "name": "stdout"
        }
      ]
    }
  ]
}